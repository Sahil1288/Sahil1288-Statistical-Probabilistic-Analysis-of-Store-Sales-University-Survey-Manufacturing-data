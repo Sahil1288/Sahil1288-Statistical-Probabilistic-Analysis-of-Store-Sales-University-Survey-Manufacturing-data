{
 "cells": [
  {
   "cell_type": "code",
   "execution_count": 2,
   "id": "199bf0ec",
   "metadata": {},
   "outputs": [],
   "source": [
    "import numpy as np\n",
    "import pandas as pd\n",
    "import matplotlib.pyplot as plt\n",
    "import seaborn as sns\n",
    "sns.set(color_codes=True)\n",
    "import scipy.stats as stats\n",
    "from scipy.stats import shapiro\n",
    "from scipy.stats import ttest_1samp,ttest_ind, chi2_contingency\n",
    "from warnings import filterwarnings\n",
    "filterwarnings('ignore')"
   ]
  },
  {
   "cell_type": "markdown",
   "id": "2270c72c",
   "metadata": {},
   "source": [
    "# Problem 1\n",
    "\n",
    "## Problem Statement\n",
    "### A wholesale distributor operating in different regions of Portugal has information on annual spending of several items in their stores across different regions and channels. The data consists of 440 large retailers’ annual spending on 6 different varieties of products in 3 different regions (Lisbon, Oporto, Other) and across different sales channel (Hotel, Retail)."
   ]
  },
  {
   "cell_type": "code",
   "execution_count": 2,
   "id": "f7e97bd1",
   "metadata": {},
   "outputs": [
    {
     "data": {
      "text/html": [
       "<div>\n",
       "<style scoped>\n",
       "    .dataframe tbody tr th:only-of-type {\n",
       "        vertical-align: middle;\n",
       "    }\n",
       "\n",
       "    .dataframe tbody tr th {\n",
       "        vertical-align: top;\n",
       "    }\n",
       "\n",
       "    .dataframe thead th {\n",
       "        text-align: right;\n",
       "    }\n",
       "</style>\n",
       "<table border=\"1\" class=\"dataframe\">\n",
       "  <thead>\n",
       "    <tr style=\"text-align: right;\">\n",
       "      <th></th>\n",
       "      <th>Buyer/Spender</th>\n",
       "      <th>Channel</th>\n",
       "      <th>Region</th>\n",
       "      <th>Fresh</th>\n",
       "      <th>Milk</th>\n",
       "      <th>Grocery</th>\n",
       "      <th>Frozen</th>\n",
       "      <th>Detergents_Paper</th>\n",
       "      <th>Delicatessen</th>\n",
       "    </tr>\n",
       "  </thead>\n",
       "  <tbody>\n",
       "    <tr>\n",
       "      <th>0</th>\n",
       "      <td>1</td>\n",
       "      <td>Retail</td>\n",
       "      <td>Other</td>\n",
       "      <td>12669</td>\n",
       "      <td>9656</td>\n",
       "      <td>7561</td>\n",
       "      <td>214</td>\n",
       "      <td>2674</td>\n",
       "      <td>1338</td>\n",
       "    </tr>\n",
       "    <tr>\n",
       "      <th>1</th>\n",
       "      <td>2</td>\n",
       "      <td>Retail</td>\n",
       "      <td>Other</td>\n",
       "      <td>7057</td>\n",
       "      <td>9810</td>\n",
       "      <td>9568</td>\n",
       "      <td>1762</td>\n",
       "      <td>3293</td>\n",
       "      <td>1776</td>\n",
       "    </tr>\n",
       "    <tr>\n",
       "      <th>2</th>\n",
       "      <td>3</td>\n",
       "      <td>Retail</td>\n",
       "      <td>Other</td>\n",
       "      <td>6353</td>\n",
       "      <td>8808</td>\n",
       "      <td>7684</td>\n",
       "      <td>2405</td>\n",
       "      <td>3516</td>\n",
       "      <td>7844</td>\n",
       "    </tr>\n",
       "    <tr>\n",
       "      <th>3</th>\n",
       "      <td>4</td>\n",
       "      <td>Hotel</td>\n",
       "      <td>Other</td>\n",
       "      <td>13265</td>\n",
       "      <td>1196</td>\n",
       "      <td>4221</td>\n",
       "      <td>6404</td>\n",
       "      <td>507</td>\n",
       "      <td>1788</td>\n",
       "    </tr>\n",
       "    <tr>\n",
       "      <th>4</th>\n",
       "      <td>5</td>\n",
       "      <td>Retail</td>\n",
       "      <td>Other</td>\n",
       "      <td>22615</td>\n",
       "      <td>5410</td>\n",
       "      <td>7198</td>\n",
       "      <td>3915</td>\n",
       "      <td>1777</td>\n",
       "      <td>5185</td>\n",
       "    </tr>\n",
       "    <tr>\n",
       "      <th>...</th>\n",
       "      <td>...</td>\n",
       "      <td>...</td>\n",
       "      <td>...</td>\n",
       "      <td>...</td>\n",
       "      <td>...</td>\n",
       "      <td>...</td>\n",
       "      <td>...</td>\n",
       "      <td>...</td>\n",
       "      <td>...</td>\n",
       "    </tr>\n",
       "    <tr>\n",
       "      <th>435</th>\n",
       "      <td>436</td>\n",
       "      <td>Hotel</td>\n",
       "      <td>Other</td>\n",
       "      <td>29703</td>\n",
       "      <td>12051</td>\n",
       "      <td>16027</td>\n",
       "      <td>13135</td>\n",
       "      <td>182</td>\n",
       "      <td>2204</td>\n",
       "    </tr>\n",
       "    <tr>\n",
       "      <th>436</th>\n",
       "      <td>437</td>\n",
       "      <td>Hotel</td>\n",
       "      <td>Other</td>\n",
       "      <td>39228</td>\n",
       "      <td>1431</td>\n",
       "      <td>764</td>\n",
       "      <td>4510</td>\n",
       "      <td>93</td>\n",
       "      <td>2346</td>\n",
       "    </tr>\n",
       "    <tr>\n",
       "      <th>437</th>\n",
       "      <td>438</td>\n",
       "      <td>Retail</td>\n",
       "      <td>Other</td>\n",
       "      <td>14531</td>\n",
       "      <td>15488</td>\n",
       "      <td>30243</td>\n",
       "      <td>437</td>\n",
       "      <td>14841</td>\n",
       "      <td>1867</td>\n",
       "    </tr>\n",
       "    <tr>\n",
       "      <th>438</th>\n",
       "      <td>439</td>\n",
       "      <td>Hotel</td>\n",
       "      <td>Other</td>\n",
       "      <td>10290</td>\n",
       "      <td>1981</td>\n",
       "      <td>2232</td>\n",
       "      <td>1038</td>\n",
       "      <td>168</td>\n",
       "      <td>2125</td>\n",
       "    </tr>\n",
       "    <tr>\n",
       "      <th>439</th>\n",
       "      <td>440</td>\n",
       "      <td>Hotel</td>\n",
       "      <td>Other</td>\n",
       "      <td>2787</td>\n",
       "      <td>1698</td>\n",
       "      <td>2510</td>\n",
       "      <td>65</td>\n",
       "      <td>477</td>\n",
       "      <td>52</td>\n",
       "    </tr>\n",
       "  </tbody>\n",
       "</table>\n",
       "<p>440 rows × 9 columns</p>\n",
       "</div>"
      ],
      "text/plain": [
       "     Buyer/Spender Channel Region  Fresh   Milk  Grocery  Frozen  \\\n",
       "0                1  Retail  Other  12669   9656     7561     214   \n",
       "1                2  Retail  Other   7057   9810     9568    1762   \n",
       "2                3  Retail  Other   6353   8808     7684    2405   \n",
       "3                4   Hotel  Other  13265   1196     4221    6404   \n",
       "4                5  Retail  Other  22615   5410     7198    3915   \n",
       "..             ...     ...    ...    ...    ...      ...     ...   \n",
       "435            436   Hotel  Other  29703  12051    16027   13135   \n",
       "436            437   Hotel  Other  39228   1431      764    4510   \n",
       "437            438  Retail  Other  14531  15488    30243     437   \n",
       "438            439   Hotel  Other  10290   1981     2232    1038   \n",
       "439            440   Hotel  Other   2787   1698     2510      65   \n",
       "\n",
       "     Detergents_Paper  Delicatessen  \n",
       "0                2674          1338  \n",
       "1                3293          1776  \n",
       "2                3516          7844  \n",
       "3                 507          1788  \n",
       "4                1777          5185  \n",
       "..                ...           ...  \n",
       "435               182          2204  \n",
       "436                93          2346  \n",
       "437             14841          1867  \n",
       "438               168          2125  \n",
       "439               477            52  \n",
       "\n",
       "[440 rows x 9 columns]"
      ]
     },
     "execution_count": 2,
     "metadata": {},
     "output_type": "execute_result"
    }
   ],
   "source": [
    "wholesale = pd.read_csv('Wholesale+Customers+Data.csv')\n",
    "wholesale"
   ]
  },
  {
   "cell_type": "code",
   "execution_count": 3,
   "id": "4a102003",
   "metadata": {},
   "outputs": [
    {
     "data": {
      "text/plain": [
       "Buyer/Spender       0\n",
       "Channel             0\n",
       "Region              0\n",
       "Fresh               0\n",
       "Milk                0\n",
       "Grocery             0\n",
       "Frozen              0\n",
       "Detergents_Paper    0\n",
       "Delicatessen        0\n",
       "dtype: int64"
      ]
     },
     "execution_count": 3,
     "metadata": {},
     "output_type": "execute_result"
    }
   ],
   "source": [
    "wholesale.isnull().sum()"
   ]
  },
  {
   "cell_type": "markdown",
   "id": "aeafd95c",
   "metadata": {},
   "source": [
    "#### Q-1.1 Use methods of descriptive statistics to summarize data. \n",
    "###### 1.1.1 Which Region and which Channel spent the most? \n",
    "###### 1.1.2 Which Region and which Channel spent the least?"
   ]
  },
  {
   "cell_type": "code",
   "execution_count": 4,
   "id": "6ac14541",
   "metadata": {},
   "outputs": [
    {
     "data": {
      "text/html": [
       "<div>\n",
       "<style scoped>\n",
       "    .dataframe tbody tr th:only-of-type {\n",
       "        vertical-align: middle;\n",
       "    }\n",
       "\n",
       "    .dataframe tbody tr th {\n",
       "        vertical-align: top;\n",
       "    }\n",
       "\n",
       "    .dataframe thead th {\n",
       "        text-align: right;\n",
       "    }\n",
       "</style>\n",
       "<table border=\"1\" class=\"dataframe\">\n",
       "  <thead>\n",
       "    <tr style=\"text-align: right;\">\n",
       "      <th></th>\n",
       "      <th>Buyer/Spender</th>\n",
       "      <th>Channel</th>\n",
       "      <th>Region</th>\n",
       "      <th>Fresh</th>\n",
       "      <th>Milk</th>\n",
       "      <th>Grocery</th>\n",
       "      <th>Frozen</th>\n",
       "      <th>Detergents_Paper</th>\n",
       "      <th>Delicatessen</th>\n",
       "    </tr>\n",
       "  </thead>\n",
       "  <tbody>\n",
       "    <tr>\n",
       "      <th>count</th>\n",
       "      <td>440.000000</td>\n",
       "      <td>440</td>\n",
       "      <td>440</td>\n",
       "      <td>440.000000</td>\n",
       "      <td>440.000000</td>\n",
       "      <td>440.000000</td>\n",
       "      <td>440.000000</td>\n",
       "      <td>440.000000</td>\n",
       "      <td>440.000000</td>\n",
       "    </tr>\n",
       "    <tr>\n",
       "      <th>unique</th>\n",
       "      <td>NaN</td>\n",
       "      <td>2</td>\n",
       "      <td>3</td>\n",
       "      <td>NaN</td>\n",
       "      <td>NaN</td>\n",
       "      <td>NaN</td>\n",
       "      <td>NaN</td>\n",
       "      <td>NaN</td>\n",
       "      <td>NaN</td>\n",
       "    </tr>\n",
       "    <tr>\n",
       "      <th>top</th>\n",
       "      <td>NaN</td>\n",
       "      <td>Hotel</td>\n",
       "      <td>Other</td>\n",
       "      <td>NaN</td>\n",
       "      <td>NaN</td>\n",
       "      <td>NaN</td>\n",
       "      <td>NaN</td>\n",
       "      <td>NaN</td>\n",
       "      <td>NaN</td>\n",
       "    </tr>\n",
       "    <tr>\n",
       "      <th>freq</th>\n",
       "      <td>NaN</td>\n",
       "      <td>298</td>\n",
       "      <td>316</td>\n",
       "      <td>NaN</td>\n",
       "      <td>NaN</td>\n",
       "      <td>NaN</td>\n",
       "      <td>NaN</td>\n",
       "      <td>NaN</td>\n",
       "      <td>NaN</td>\n",
       "    </tr>\n",
       "    <tr>\n",
       "      <th>mean</th>\n",
       "      <td>220.500000</td>\n",
       "      <td>NaN</td>\n",
       "      <td>NaN</td>\n",
       "      <td>12000.297727</td>\n",
       "      <td>5796.265909</td>\n",
       "      <td>7951.277273</td>\n",
       "      <td>3071.931818</td>\n",
       "      <td>2881.493182</td>\n",
       "      <td>1524.870455</td>\n",
       "    </tr>\n",
       "    <tr>\n",
       "      <th>std</th>\n",
       "      <td>127.161315</td>\n",
       "      <td>NaN</td>\n",
       "      <td>NaN</td>\n",
       "      <td>12647.328865</td>\n",
       "      <td>7380.377175</td>\n",
       "      <td>9503.162829</td>\n",
       "      <td>4854.673333</td>\n",
       "      <td>4767.854448</td>\n",
       "      <td>2820.105937</td>\n",
       "    </tr>\n",
       "    <tr>\n",
       "      <th>min</th>\n",
       "      <td>1.000000</td>\n",
       "      <td>NaN</td>\n",
       "      <td>NaN</td>\n",
       "      <td>3.000000</td>\n",
       "      <td>55.000000</td>\n",
       "      <td>3.000000</td>\n",
       "      <td>25.000000</td>\n",
       "      <td>3.000000</td>\n",
       "      <td>3.000000</td>\n",
       "    </tr>\n",
       "    <tr>\n",
       "      <th>25%</th>\n",
       "      <td>110.750000</td>\n",
       "      <td>NaN</td>\n",
       "      <td>NaN</td>\n",
       "      <td>3127.750000</td>\n",
       "      <td>1533.000000</td>\n",
       "      <td>2153.000000</td>\n",
       "      <td>742.250000</td>\n",
       "      <td>256.750000</td>\n",
       "      <td>408.250000</td>\n",
       "    </tr>\n",
       "    <tr>\n",
       "      <th>50%</th>\n",
       "      <td>220.500000</td>\n",
       "      <td>NaN</td>\n",
       "      <td>NaN</td>\n",
       "      <td>8504.000000</td>\n",
       "      <td>3627.000000</td>\n",
       "      <td>4755.500000</td>\n",
       "      <td>1526.000000</td>\n",
       "      <td>816.500000</td>\n",
       "      <td>965.500000</td>\n",
       "    </tr>\n",
       "    <tr>\n",
       "      <th>75%</th>\n",
       "      <td>330.250000</td>\n",
       "      <td>NaN</td>\n",
       "      <td>NaN</td>\n",
       "      <td>16933.750000</td>\n",
       "      <td>7190.250000</td>\n",
       "      <td>10655.750000</td>\n",
       "      <td>3554.250000</td>\n",
       "      <td>3922.000000</td>\n",
       "      <td>1820.250000</td>\n",
       "    </tr>\n",
       "    <tr>\n",
       "      <th>max</th>\n",
       "      <td>440.000000</td>\n",
       "      <td>NaN</td>\n",
       "      <td>NaN</td>\n",
       "      <td>112151.000000</td>\n",
       "      <td>73498.000000</td>\n",
       "      <td>92780.000000</td>\n",
       "      <td>60869.000000</td>\n",
       "      <td>40827.000000</td>\n",
       "      <td>47943.000000</td>\n",
       "    </tr>\n",
       "  </tbody>\n",
       "</table>\n",
       "</div>"
      ],
      "text/plain": [
       "        Buyer/Spender Channel Region          Fresh          Milk  \\\n",
       "count      440.000000     440    440     440.000000    440.000000   \n",
       "unique            NaN       2      3            NaN           NaN   \n",
       "top               NaN   Hotel  Other            NaN           NaN   \n",
       "freq              NaN     298    316            NaN           NaN   \n",
       "mean       220.500000     NaN    NaN   12000.297727   5796.265909   \n",
       "std        127.161315     NaN    NaN   12647.328865   7380.377175   \n",
       "min          1.000000     NaN    NaN       3.000000     55.000000   \n",
       "25%        110.750000     NaN    NaN    3127.750000   1533.000000   \n",
       "50%        220.500000     NaN    NaN    8504.000000   3627.000000   \n",
       "75%        330.250000     NaN    NaN   16933.750000   7190.250000   \n",
       "max        440.000000     NaN    NaN  112151.000000  73498.000000   \n",
       "\n",
       "             Grocery        Frozen  Detergents_Paper  Delicatessen  \n",
       "count     440.000000    440.000000        440.000000    440.000000  \n",
       "unique           NaN           NaN               NaN           NaN  \n",
       "top              NaN           NaN               NaN           NaN  \n",
       "freq             NaN           NaN               NaN           NaN  \n",
       "mean     7951.277273   3071.931818       2881.493182   1524.870455  \n",
       "std      9503.162829   4854.673333       4767.854448   2820.105937  \n",
       "min         3.000000     25.000000          3.000000      3.000000  \n",
       "25%      2153.000000    742.250000        256.750000    408.250000  \n",
       "50%      4755.500000   1526.000000        816.500000    965.500000  \n",
       "75%     10655.750000   3554.250000       3922.000000   1820.250000  \n",
       "max     92780.000000  60869.000000      40827.000000  47943.000000  "
      ]
     },
     "execution_count": 4,
     "metadata": {},
     "output_type": "execute_result"
    }
   ],
   "source": [
    "wholesale.describe(include='all')"
   ]
  },
  {
   "cell_type": "code",
   "execution_count": 5,
   "id": "e665cbd1",
   "metadata": {},
   "outputs": [
    {
     "data": {
      "image/png": "[encoded data removed]",
      "text/plain": [
       "<Figure size 432x288 with 1 Axes>"
      ]
     },
     "metadata": {},
     "output_type": "display_data"
    }
   ],
   "source": [
    "w1=wholesale.groupby('Channel',as_index=False).sum()\n",
    "w1['Total']=w1.Fresh+w1.Milk+w1.Grocery+w1.Frozen+w1.Detergents_Paper+w1.Delicatessen\n",
    "ax=sns.barplot(x=w1['Channel'],y=w1['Total'],)\n",
    "plt.ylabel('Total Amount Spend')\n",
    "plt.bar_label(ax.containers[0],label_type='center',fmt= '%0.7g');\n"
   ]
  },
  {
   "cell_type": "markdown",
   "id": "eea3235d",
   "metadata": {},
   "source": [
    "As we can see the Hotel is the most spent channel which spends around 80 lacs on the purchase of different items.\n",
    "where Retail channel spents least amount on the purchasing of the given items i.e around 66 lacs "
   ]
  },
  {
   "cell_type": "code",
   "execution_count": 6,
   "id": "097c3ac9",
   "metadata": {},
   "outputs": [
    {
     "data": {
      "image/png": "[encoded data removed]",
      "text/plain": [
       "<Figure size 432x288 with 1 Axes>"
      ]
     },
     "metadata": {},
     "output_type": "display_data"
    }
   ],
   "source": [
    "w2=wholesale.groupby('Region',as_index=False).sum()\n",
    "w2['Total']=w2.Fresh+w2.Milk+w2.Grocery+w2.Frozen+w2.Detergents_Paper+w2.Delicatessen\n",
    "rx=sns.barplot(x='Region',y='Total',data=w2)\n",
    "plt.ylabel('Total amount spend');\n",
    "plt.bar_label(rx.containers[0],fmt='%0.8g');"
   ]
  },
  {
   "cell_type": "markdown",
   "id": "87bb4e88",
   "metadata": {},
   "source": [
    "The region to spend most amount on the above items is others as it spents around 1.06cr, whereas Oporto Region spends around 15.5 lacs for the above items which is the least amount. "
   ]
  },
  {
   "cell_type": "markdown",
   "id": "533ed3d8",
   "metadata": {},
   "source": [
    "#### Q-1.2 There are 6 different varieties of items that are considered. Describe and comment/explain all the varieties across Region and Channel? Provide a detailed justification for your answer."
   ]
  },
  {
   "cell_type": "code",
   "execution_count": 7,
   "id": "37f7cf11",
   "metadata": {},
   "outputs": [
    {
     "data": {
      "text/html": [
       "<div>\n",
       "<style scoped>\n",
       "    .dataframe tbody tr th:only-of-type {\n",
       "        vertical-align: middle;\n",
       "    }\n",
       "\n",
       "    .dataframe tbody tr th {\n",
       "        vertical-align: top;\n",
       "    }\n",
       "\n",
       "    .dataframe thead tr th {\n",
       "        text-align: left;\n",
       "    }\n",
       "\n",
       "    .dataframe thead tr:last-of-type th {\n",
       "        text-align: right;\n",
       "    }\n",
       "</style>\n",
       "<table border=\"1\" class=\"dataframe\">\n",
       "  <thead>\n",
       "    <tr>\n",
       "      <th></th>\n",
       "      <th colspan=\"8\" halign=\"left\">Fresh</th>\n",
       "      <th colspan=\"2\" halign=\"left\">Milk</th>\n",
       "      <th>...</th>\n",
       "      <th colspan=\"2\" halign=\"left\">Detergents_Paper</th>\n",
       "      <th colspan=\"8\" halign=\"left\">Delicatessen</th>\n",
       "    </tr>\n",
       "    <tr>\n",
       "      <th></th>\n",
       "      <th>count</th>\n",
       "      <th>mean</th>\n",
       "      <th>std</th>\n",
       "      <th>min</th>\n",
       "      <th>25%</th>\n",
       "      <th>50%</th>\n",
       "      <th>75%</th>\n",
       "      <th>max</th>\n",
       "      <th>count</th>\n",
       "      <th>mean</th>\n",
       "      <th>...</th>\n",
       "      <th>75%</th>\n",
       "      <th>max</th>\n",
       "      <th>count</th>\n",
       "      <th>mean</th>\n",
       "      <th>std</th>\n",
       "      <th>min</th>\n",
       "      <th>25%</th>\n",
       "      <th>50%</th>\n",
       "      <th>75%</th>\n",
       "      <th>max</th>\n",
       "    </tr>\n",
       "    <tr>\n",
       "      <th>Channel</th>\n",
       "      <th></th>\n",
       "      <th></th>\n",
       "      <th></th>\n",
       "      <th></th>\n",
       "      <th></th>\n",
       "      <th></th>\n",
       "      <th></th>\n",
       "      <th></th>\n",
       "      <th></th>\n",
       "      <th></th>\n",
       "      <th></th>\n",
       "      <th></th>\n",
       "      <th></th>\n",
       "      <th></th>\n",
       "      <th></th>\n",
       "      <th></th>\n",
       "      <th></th>\n",
       "      <th></th>\n",
       "      <th></th>\n",
       "      <th></th>\n",
       "      <th></th>\n",
       "    </tr>\n",
       "  </thead>\n",
       "  <tbody>\n",
       "    <tr>\n",
       "      <th>Hotel</th>\n",
       "      <td>298.0</td>\n",
       "      <td>13475.560403</td>\n",
       "      <td>13831.687502</td>\n",
       "      <td>3.0</td>\n",
       "      <td>4070.25</td>\n",
       "      <td>9581.5</td>\n",
       "      <td>18274.75</td>\n",
       "      <td>112151.0</td>\n",
       "      <td>298.0</td>\n",
       "      <td>3451.724832</td>\n",
       "      <td>...</td>\n",
       "      <td>899.5</td>\n",
       "      <td>6907.0</td>\n",
       "      <td>298.0</td>\n",
       "      <td>1415.956376</td>\n",
       "      <td>3147.426922</td>\n",
       "      <td>3.0</td>\n",
       "      <td>379.00</td>\n",
       "      <td>821.0</td>\n",
       "      <td>1548.0</td>\n",
       "      <td>47943.0</td>\n",
       "    </tr>\n",
       "    <tr>\n",
       "      <th>Retail</th>\n",
       "      <td>142.0</td>\n",
       "      <td>8904.323944</td>\n",
       "      <td>8987.714750</td>\n",
       "      <td>18.0</td>\n",
       "      <td>2347.75</td>\n",
       "      <td>5993.5</td>\n",
       "      <td>12229.75</td>\n",
       "      <td>44466.0</td>\n",
       "      <td>142.0</td>\n",
       "      <td>10716.500000</td>\n",
       "      <td>...</td>\n",
       "      <td>8662.5</td>\n",
       "      <td>40827.0</td>\n",
       "      <td>142.0</td>\n",
       "      <td>1753.436620</td>\n",
       "      <td>1953.797047</td>\n",
       "      <td>3.0</td>\n",
       "      <td>566.75</td>\n",
       "      <td>1350.0</td>\n",
       "      <td>2156.0</td>\n",
       "      <td>16523.0</td>\n",
       "    </tr>\n",
       "  </tbody>\n",
       "</table>\n",
       "<p>2 rows × 48 columns</p>\n",
       "</div>"
      ],
      "text/plain": [
       "         Fresh                                                               \\\n",
       "         count          mean           std   min      25%     50%       75%   \n",
       "Channel                                                                       \n",
       "Hotel    298.0  13475.560403  13831.687502   3.0  4070.25  9581.5  18274.75   \n",
       "Retail   142.0   8904.323944   8987.714750  18.0  2347.75  5993.5  12229.75   \n",
       "\n",
       "                    Milk                ... Detergents_Paper           \\\n",
       "              max  count          mean  ...              75%      max   \n",
       "Channel                                 ...                             \n",
       "Hotel    112151.0  298.0   3451.724832  ...            899.5   6907.0   \n",
       "Retail    44466.0  142.0  10716.500000  ...           8662.5  40827.0   \n",
       "\n",
       "        Delicatessen                                                         \\\n",
       "               count         mean          std  min     25%     50%     75%   \n",
       "Channel                                                                       \n",
       "Hotel          298.0  1415.956376  3147.426922  3.0  379.00   821.0  1548.0   \n",
       "Retail         142.0  1753.436620  1953.797047  3.0  566.75  1350.0  2156.0   \n",
       "\n",
       "                  \n",
       "             max  \n",
       "Channel           \n",
       "Hotel    47943.0  \n",
       "Retail   16523.0  \n",
       "\n",
       "[2 rows x 48 columns]"
      ]
     },
     "execution_count": 7,
     "metadata": {},
     "output_type": "execute_result"
    }
   ],
   "source": [
    "w4=wholesale.groupby('Channel')[['Fresh','Milk','Grocery','Frozen','Detergents_Paper','Delicatessen']].describe()\n",
    "w4\n"
   ]
  },
  {
   "cell_type": "code",
   "execution_count": 8,
   "id": "256b32e5",
   "metadata": {},
   "outputs": [
    {
     "data": {
      "image/png": "[encoded data removed]",
      "text/plain": [
       "<Figure size 1440x720 with 6 Axes>"
      ]
     },
     "metadata": {},
     "output_type": "display_data"
    }
   ],
   "source": [
    "fig, axes = plt.subplots(nrows=2,ncols=3)\n",
    "fig.set_size_inches(20, 10)\n",
    "a=sns.boxplot(wholesale.Fresh,wholesale.Channel,ax=axes[0][0])\n",
    "b=sns.boxplot(wholesale.Milk,wholesale.Channel,ax=axes[0][1])\n",
    "c=sns.boxplot(wholesale.Grocery,wholesale.Channel,ax=axes[0][2])\n",
    "d=sns.boxplot(wholesale.Frozen,wholesale.Channel,ax=axes[1][0])\n",
    "e=sns.boxplot(wholesale['Detergents_Paper'],wholesale.Channel,ax=axes[1][1])\n",
    "f=sns.boxplot(wholesale.Delicatessen,wholesale.Channel,ax=axes[1][2]);"
   ]
  },
  {
   "cell_type": "markdown",
   "id": "e48728b7",
   "metadata": {},
   "source": [
    "#### Items Behavior Across Channel\n",
    "1. Fresh item distribution is good, very slightly reight skewed in both hotel and Retail, CV value is low 0.97 and 0.99 respectively which means its very consistent.There are too many outliers as a huge difference in max and min with 3rd and 1st quartile respectively. Hotel channel has high value of outliers as compare to retail. \n",
    "2. Milk sale is more in retail channel in comparison to hotel channel. 1st quartile has large difference in both channels. Distributiion of milk in retail channel is right skewed ad has too many outliers, which means big amount of money has spent to buy milk through retail channels.\n",
    "3. There is a big difference in spending of Grocery in both channels. Retail channel spends more as compare to hotel channel, distribution in both channels is positively skewed and both have outliers but retail channel has high value spending on grocery and outliers spreads much farther than the maximum value. \n",
    "4. Frozen items are more prefered through hotel channels, the spread is closely spread and a bit right skewed.There are some outliers in both channels but the Hotel Channel has high value outliers.\n",
    "5. Spending on Detergent papers are much more in retail channel as compare to hotel channel.The spread of the item in retail channel is largely spread and ouliers contains high values whereas Hotel channel is closely spread and outliers also spread closely beyond maximum value.\n",
    "6. Delicatessen item spending is almost similar in both channels and it is also closely spread. tin both channels it follows almost normal distribution. The ouliers value is much higher in Hotel as compare to Retail Channel."
   ]
  },
  {
   "cell_type": "code",
   "execution_count": 9,
   "id": "871ace96",
   "metadata": {},
   "outputs": [
    {
     "data": {
      "text/html": [
       "<div>\n",
       "<style scoped>\n",
       "    .dataframe tbody tr th:only-of-type {\n",
       "        vertical-align: middle;\n",
       "    }\n",
       "\n",
       "    .dataframe tbody tr th {\n",
       "        vertical-align: top;\n",
       "    }\n",
       "\n",
       "    .dataframe thead tr th {\n",
       "        text-align: left;\n",
       "    }\n",
       "\n",
       "    .dataframe thead tr:last-of-type th {\n",
       "        text-align: right;\n",
       "    }\n",
       "</style>\n",
       "<table border=\"1\" class=\"dataframe\">\n",
       "  <thead>\n",
       "    <tr>\n",
       "      <th></th>\n",
       "      <th colspan=\"8\" halign=\"left\">Fresh</th>\n",
       "      <th colspan=\"2\" halign=\"left\">Milk</th>\n",
       "      <th>...</th>\n",
       "      <th colspan=\"2\" halign=\"left\">Detergents_Paper</th>\n",
       "      <th colspan=\"8\" halign=\"left\">Delicatessen</th>\n",
       "    </tr>\n",
       "    <tr>\n",
       "      <th></th>\n",
       "      <th>count</th>\n",
       "      <th>mean</th>\n",
       "      <th>std</th>\n",
       "      <th>min</th>\n",
       "      <th>25%</th>\n",
       "      <th>50%</th>\n",
       "      <th>75%</th>\n",
       "      <th>max</th>\n",
       "      <th>count</th>\n",
       "      <th>mean</th>\n",
       "      <th>...</th>\n",
       "      <th>75%</th>\n",
       "      <th>max</th>\n",
       "      <th>count</th>\n",
       "      <th>mean</th>\n",
       "      <th>std</th>\n",
       "      <th>min</th>\n",
       "      <th>25%</th>\n",
       "      <th>50%</th>\n",
       "      <th>75%</th>\n",
       "      <th>max</th>\n",
       "    </tr>\n",
       "    <tr>\n",
       "      <th>Region</th>\n",
       "      <th></th>\n",
       "      <th></th>\n",
       "      <th></th>\n",
       "      <th></th>\n",
       "      <th></th>\n",
       "      <th></th>\n",
       "      <th></th>\n",
       "      <th></th>\n",
       "      <th></th>\n",
       "      <th></th>\n",
       "      <th></th>\n",
       "      <th></th>\n",
       "      <th></th>\n",
       "      <th></th>\n",
       "      <th></th>\n",
       "      <th></th>\n",
       "      <th></th>\n",
       "      <th></th>\n",
       "      <th></th>\n",
       "      <th></th>\n",
       "      <th></th>\n",
       "    </tr>\n",
       "  </thead>\n",
       "  <tbody>\n",
       "    <tr>\n",
       "      <th>Lisbon</th>\n",
       "      <td>77.0</td>\n",
       "      <td>11101.727273</td>\n",
       "      <td>11557.438575</td>\n",
       "      <td>18.0</td>\n",
       "      <td>2806.00</td>\n",
       "      <td>7363.0</td>\n",
       "      <td>15218.0</td>\n",
       "      <td>56083.0</td>\n",
       "      <td>77.0</td>\n",
       "      <td>5486.415584</td>\n",
       "      <td>...</td>\n",
       "      <td>3593.00</td>\n",
       "      <td>19410.0</td>\n",
       "      <td>77.0</td>\n",
       "      <td>1354.896104</td>\n",
       "      <td>1345.423340</td>\n",
       "      <td>7.0</td>\n",
       "      <td>548.0</td>\n",
       "      <td>806.0</td>\n",
       "      <td>1775.00</td>\n",
       "      <td>6854.0</td>\n",
       "    </tr>\n",
       "    <tr>\n",
       "      <th>Oporto</th>\n",
       "      <td>47.0</td>\n",
       "      <td>9887.680851</td>\n",
       "      <td>8387.899211</td>\n",
       "      <td>3.0</td>\n",
       "      <td>2751.50</td>\n",
       "      <td>8090.0</td>\n",
       "      <td>14925.5</td>\n",
       "      <td>32717.0</td>\n",
       "      <td>47.0</td>\n",
       "      <td>5088.170213</td>\n",
       "      <td>...</td>\n",
       "      <td>4324.50</td>\n",
       "      <td>38102.0</td>\n",
       "      <td>47.0</td>\n",
       "      <td>1159.702128</td>\n",
       "      <td>1050.739841</td>\n",
       "      <td>51.0</td>\n",
       "      <td>540.5</td>\n",
       "      <td>898.0</td>\n",
       "      <td>1538.50</td>\n",
       "      <td>5609.0</td>\n",
       "    </tr>\n",
       "    <tr>\n",
       "      <th>Other</th>\n",
       "      <td>316.0</td>\n",
       "      <td>12533.471519</td>\n",
       "      <td>13389.213115</td>\n",
       "      <td>3.0</td>\n",
       "      <td>3350.75</td>\n",
       "      <td>8752.5</td>\n",
       "      <td>17406.5</td>\n",
       "      <td>112151.0</td>\n",
       "      <td>316.0</td>\n",
       "      <td>5977.085443</td>\n",
       "      <td>...</td>\n",
       "      <td>3875.75</td>\n",
       "      <td>40827.0</td>\n",
       "      <td>316.0</td>\n",
       "      <td>1620.601266</td>\n",
       "      <td>3232.581660</td>\n",
       "      <td>3.0</td>\n",
       "      <td>402.0</td>\n",
       "      <td>994.0</td>\n",
       "      <td>1832.75</td>\n",
       "      <td>47943.0</td>\n",
       "    </tr>\n",
       "  </tbody>\n",
       "</table>\n",
       "<p>3 rows × 48 columns</p>\n",
       "</div>"
      ],
      "text/plain": [
       "        Fresh                                                              \\\n",
       "        count          mean           std   min      25%     50%      75%   \n",
       "Region                                                                      \n",
       "Lisbon   77.0  11101.727273  11557.438575  18.0  2806.00  7363.0  15218.0   \n",
       "Oporto   47.0   9887.680851   8387.899211   3.0  2751.50  8090.0  14925.5   \n",
       "Other   316.0  12533.471519  13389.213115   3.0  3350.75  8752.5  17406.5   \n",
       "\n",
       "                   Milk               ... Detergents_Paper           \\\n",
       "             max  count         mean  ...              75%      max   \n",
       "Region                                ...                             \n",
       "Lisbon   56083.0   77.0  5486.415584  ...          3593.00  19410.0   \n",
       "Oporto   32717.0   47.0  5088.170213  ...          4324.50  38102.0   \n",
       "Other   112151.0  316.0  5977.085443  ...          3875.75  40827.0   \n",
       "\n",
       "       Delicatessen                                                         \\\n",
       "              count         mean          std   min    25%    50%      75%   \n",
       "Region                                                                       \n",
       "Lisbon         77.0  1354.896104  1345.423340   7.0  548.0  806.0  1775.00   \n",
       "Oporto         47.0  1159.702128  1050.739841  51.0  540.5  898.0  1538.50   \n",
       "Other         316.0  1620.601266  3232.581660   3.0  402.0  994.0  1832.75   \n",
       "\n",
       "                 \n",
       "            max  \n",
       "Region           \n",
       "Lisbon   6854.0  \n",
       "Oporto   5609.0  \n",
       "Other   47943.0  \n",
       "\n",
       "[3 rows x 48 columns]"
      ]
     },
     "execution_count": 9,
     "metadata": {},
     "output_type": "execute_result"
    }
   ],
   "source": [
    "w5=wholesale.groupby('Region')[['Fresh','Milk','Grocery','Frozen','Detergents_Paper','Delicatessen']].describe()\n",
    "w5"
   ]
  },
  {
   "cell_type": "code",
   "execution_count": 10,
   "id": "513a6217",
   "metadata": {},
   "outputs": [
    {
     "data": {
      "image/png": "[encoded data removed]",
      "text/plain": [
       "<Figure size 1440x720 with 6 Axes>"
      ]
     },
     "metadata": {},
     "output_type": "display_data"
    }
   ],
   "source": [
    "fig, axes = plt.subplots(nrows=2,ncols=3)\n",
    "fig.set_size_inches(20, 10)\n",
    "a=sns.boxplot(wholesale.Fresh,wholesale.Region,ax=axes[0][0])\n",
    "b=sns.boxplot(wholesale.Milk,wholesale.Region,ax=axes[0][1])\n",
    "c=sns.boxplot(wholesale.Grocery,wholesale.Region,ax=axes[0][2])\n",
    "d=sns.boxplot(wholesale.Frozen,wholesale.Region,ax=axes[1][0])\n",
    "e=sns.boxplot(wholesale['Detergents_Paper'],wholesale.Region,ax=axes[1][1])\n",
    "f=sns.boxplot(wholesale.Delicatessen,wholesale.Region,ax=axes[1][2]);"
   ]
  },
  {
   "cell_type": "markdown",
   "id": "427d993f",
   "metadata": {},
   "source": [
    "#### Items Behavior Across Region\n",
    "1. Fresh items are much more prefered in other region as complare to Lisbon and Oprto but there is not much difference in the spending.These distribution follow almost a normal distribution as they have vry little skewness. The Ouliers are high valued in other region than Lisbon and Oprto.\n",
    "2. The spending of money on milk is much more higher in other region. The spread of variables is almost similar in lisbon and other region but Oprto is bit closely spread and right skewed. There are ouliers in all the region but highly and largely spread ouliers are in other region.\n",
    "3. Grocery item are prefered in all three regions and bit Oporto has higher spending in all three. All three region has wide spread of data and the distributio is also a bit right skewed. Oprto mean spending is higher but the spread of ouliers is much wider in other area.\n",
    "4. There is not much difference in spending of money to buy Frozen items in all three region.The data is closely spread in all three regions and distribution is right skewed. Other region has much more outliers as compare to other region.\n",
    "5. For detergents paper customer spends more in other region but there are too many ouliers to affect the data. The distrbution of the data is wide spread and highly right skewed. Other region has much more spread in ouliers.\n",
    "6. Delicatessen almost liked equaly by all three region . The data is closely spread and IQR is small for all three regions and there are wide spread outliers present in other region."
   ]
  },
  {
   "cell_type": "code",
   "execution_count": 11,
   "id": "0ff39b2c",
   "metadata": {},
   "outputs": [
    {
     "data": {
      "text/html": [
       "<div>\n",
       "<style scoped>\n",
       "    .dataframe tbody tr th:only-of-type {\n",
       "        vertical-align: middle;\n",
       "    }\n",
       "\n",
       "    .dataframe tbody tr th {\n",
       "        vertical-align: top;\n",
       "    }\n",
       "\n",
       "    .dataframe thead tr th {\n",
       "        text-align: left;\n",
       "    }\n",
       "\n",
       "    .dataframe thead tr:last-of-type th {\n",
       "        text-align: right;\n",
       "    }\n",
       "</style>\n",
       "<table border=\"1\" class=\"dataframe\">\n",
       "  <thead>\n",
       "    <tr>\n",
       "      <th></th>\n",
       "      <th></th>\n",
       "      <th colspan=\"8\" halign=\"left\">Fresh</th>\n",
       "      <th colspan=\"2\" halign=\"left\">Milk</th>\n",
       "      <th>...</th>\n",
       "      <th colspan=\"2\" halign=\"left\">Detergents_Paper</th>\n",
       "      <th colspan=\"8\" halign=\"left\">Delicatessen</th>\n",
       "    </tr>\n",
       "    <tr>\n",
       "      <th></th>\n",
       "      <th></th>\n",
       "      <th>count</th>\n",
       "      <th>mean</th>\n",
       "      <th>std</th>\n",
       "      <th>min</th>\n",
       "      <th>25%</th>\n",
       "      <th>50%</th>\n",
       "      <th>75%</th>\n",
       "      <th>max</th>\n",
       "      <th>count</th>\n",
       "      <th>mean</th>\n",
       "      <th>...</th>\n",
       "      <th>75%</th>\n",
       "      <th>max</th>\n",
       "      <th>count</th>\n",
       "      <th>mean</th>\n",
       "      <th>std</th>\n",
       "      <th>min</th>\n",
       "      <th>25%</th>\n",
       "      <th>50%</th>\n",
       "      <th>75%</th>\n",
       "      <th>max</th>\n",
       "    </tr>\n",
       "    <tr>\n",
       "      <th>Channel</th>\n",
       "      <th>Region</th>\n",
       "      <th></th>\n",
       "      <th></th>\n",
       "      <th></th>\n",
       "      <th></th>\n",
       "      <th></th>\n",
       "      <th></th>\n",
       "      <th></th>\n",
       "      <th></th>\n",
       "      <th></th>\n",
       "      <th></th>\n",
       "      <th></th>\n",
       "      <th></th>\n",
       "      <th></th>\n",
       "      <th></th>\n",
       "      <th></th>\n",
       "      <th></th>\n",
       "      <th></th>\n",
       "      <th></th>\n",
       "      <th></th>\n",
       "      <th></th>\n",
       "      <th></th>\n",
       "    </tr>\n",
       "  </thead>\n",
       "  <tbody>\n",
       "    <tr>\n",
       "      <th rowspan=\"3\" valign=\"top\">Hotel</th>\n",
       "      <th>Lisbon</th>\n",
       "      <td>59.0</td>\n",
       "      <td>12902.254237</td>\n",
       "      <td>12342.008901</td>\n",
       "      <td>514.0</td>\n",
       "      <td>4437.50</td>\n",
       "      <td>8656.0</td>\n",
       "      <td>18135.0</td>\n",
       "      <td>56083.0</td>\n",
       "      <td>59.0</td>\n",
       "      <td>3870.203390</td>\n",
       "      <td>...</td>\n",
       "      <td>874.00</td>\n",
       "      <td>5828.0</td>\n",
       "      <td>59.0</td>\n",
       "      <td>1197.152542</td>\n",
       "      <td>1219.945304</td>\n",
       "      <td>7.0</td>\n",
       "      <td>374.00</td>\n",
       "      <td>749.0</td>\n",
       "      <td>1621.5</td>\n",
       "      <td>6854.0</td>\n",
       "    </tr>\n",
       "    <tr>\n",
       "      <th>Oporto</th>\n",
       "      <td>28.0</td>\n",
       "      <td>11650.535714</td>\n",
       "      <td>8969.362752</td>\n",
       "      <td>3.0</td>\n",
       "      <td>4938.25</td>\n",
       "      <td>9787.0</td>\n",
       "      <td>17031.5</td>\n",
       "      <td>32717.0</td>\n",
       "      <td>28.0</td>\n",
       "      <td>2304.250000</td>\n",
       "      <td>...</td>\n",
       "      <td>707.00</td>\n",
       "      <td>1679.0</td>\n",
       "      <td>28.0</td>\n",
       "      <td>1105.892857</td>\n",
       "      <td>1056.778800</td>\n",
       "      <td>51.0</td>\n",
       "      <td>567.25</td>\n",
       "      <td>883.0</td>\n",
       "      <td>1146.0</td>\n",
       "      <td>5609.0</td>\n",
       "    </tr>\n",
       "    <tr>\n",
       "      <th>Other</th>\n",
       "      <td>211.0</td>\n",
       "      <td>13878.052133</td>\n",
       "      <td>14746.572913</td>\n",
       "      <td>3.0</td>\n",
       "      <td>3702.50</td>\n",
       "      <td>9612.0</td>\n",
       "      <td>18821.0</td>\n",
       "      <td>112151.0</td>\n",
       "      <td>211.0</td>\n",
       "      <td>3486.981043</td>\n",
       "      <td>...</td>\n",
       "      <td>948.50</td>\n",
       "      <td>6907.0</td>\n",
       "      <td>211.0</td>\n",
       "      <td>1518.284360</td>\n",
       "      <td>3663.183304</td>\n",
       "      <td>3.0</td>\n",
       "      <td>378.50</td>\n",
       "      <td>823.0</td>\n",
       "      <td>1582.0</td>\n",
       "      <td>47943.0</td>\n",
       "    </tr>\n",
       "    <tr>\n",
       "      <th rowspan=\"3\" valign=\"top\">Retail</th>\n",
       "      <th>Lisbon</th>\n",
       "      <td>18.0</td>\n",
       "      <td>5200.000000</td>\n",
       "      <td>5415.521495</td>\n",
       "      <td>18.0</td>\n",
       "      <td>2378.25</td>\n",
       "      <td>2926.0</td>\n",
       "      <td>5988.0</td>\n",
       "      <td>20782.0</td>\n",
       "      <td>18.0</td>\n",
       "      <td>10784.000000</td>\n",
       "      <td>...</td>\n",
       "      <td>11804.75</td>\n",
       "      <td>19410.0</td>\n",
       "      <td>18.0</td>\n",
       "      <td>1871.944444</td>\n",
       "      <td>1626.486667</td>\n",
       "      <td>120.0</td>\n",
       "      <td>746.00</td>\n",
       "      <td>1414.0</td>\n",
       "      <td>2456.5</td>\n",
       "      <td>6372.0</td>\n",
       "    </tr>\n",
       "    <tr>\n",
       "      <th>Oporto</th>\n",
       "      <td>19.0</td>\n",
       "      <td>7289.789474</td>\n",
       "      <td>6867.934548</td>\n",
       "      <td>161.0</td>\n",
       "      <td>2368.00</td>\n",
       "      <td>6468.0</td>\n",
       "      <td>9162.0</td>\n",
       "      <td>27082.0</td>\n",
       "      <td>19.0</td>\n",
       "      <td>9190.789474</td>\n",
       "      <td>...</td>\n",
       "      <td>9837.50</td>\n",
       "      <td>38102.0</td>\n",
       "      <td>19.0</td>\n",
       "      <td>1239.000000</td>\n",
       "      <td>1065.438042</td>\n",
       "      <td>59.0</td>\n",
       "      <td>392.50</td>\n",
       "      <td>1037.0</td>\n",
       "      <td>1815.0</td>\n",
       "      <td>3508.0</td>\n",
       "    </tr>\n",
       "    <tr>\n",
       "      <th>Other</th>\n",
       "      <td>105.0</td>\n",
       "      <td>9831.504762</td>\n",
       "      <td>9635.394129</td>\n",
       "      <td>23.0</td>\n",
       "      <td>2343.00</td>\n",
       "      <td>7362.0</td>\n",
       "      <td>15076.0</td>\n",
       "      <td>44466.0</td>\n",
       "      <td>105.0</td>\n",
       "      <td>10981.009524</td>\n",
       "      <td>...</td>\n",
       "      <td>7677.00</td>\n",
       "      <td>40827.0</td>\n",
       "      <td>105.0</td>\n",
       "      <td>1826.209524</td>\n",
       "      <td>2119.052222</td>\n",
       "      <td>3.0</td>\n",
       "      <td>545.00</td>\n",
       "      <td>1386.0</td>\n",
       "      <td>2158.0</td>\n",
       "      <td>16523.0</td>\n",
       "    </tr>\n",
       "  </tbody>\n",
       "</table>\n",
       "<p>6 rows × 48 columns</p>\n",
       "</div>"
      ],
      "text/plain": [
       "                Fresh                                                      \\\n",
       "                count          mean           std    min      25%     50%   \n",
       "Channel Region                                                              \n",
       "Hotel   Lisbon   59.0  12902.254237  12342.008901  514.0  4437.50  8656.0   \n",
       "        Oporto   28.0  11650.535714   8969.362752    3.0  4938.25  9787.0   \n",
       "        Other   211.0  13878.052133  14746.572913    3.0  3702.50  9612.0   \n",
       "Retail  Lisbon   18.0   5200.000000   5415.521495   18.0  2378.25  2926.0   \n",
       "        Oporto   19.0   7289.789474   6867.934548  161.0  2368.00  6468.0   \n",
       "        Other   105.0   9831.504762   9635.394129   23.0  2343.00  7362.0   \n",
       "\n",
       "                                    Milk                ... Detergents_Paper  \\\n",
       "                    75%       max  count          mean  ...              75%   \n",
       "Channel Region                                          ...                    \n",
       "Hotel   Lisbon  18135.0   56083.0   59.0   3870.203390  ...           874.00   \n",
       "        Oporto  17031.5   32717.0   28.0   2304.250000  ...           707.00   \n",
       "        Other   18821.0  112151.0  211.0   3486.981043  ...           948.50   \n",
       "Retail  Lisbon   5988.0   20782.0   18.0  10784.000000  ...         11804.75   \n",
       "        Oporto   9162.0   27082.0   19.0   9190.789474  ...          9837.50   \n",
       "        Other   15076.0   44466.0  105.0  10981.009524  ...          7677.00   \n",
       "\n",
       "                        Delicatessen                                           \\\n",
       "                    max        count         mean          std    min     25%   \n",
       "Channel Region                                                                  \n",
       "Hotel   Lisbon   5828.0         59.0  1197.152542  1219.945304    7.0  374.00   \n",
       "        Oporto   1679.0         28.0  1105.892857  1056.778800   51.0  567.25   \n",
       "        Other    6907.0        211.0  1518.284360  3663.183304    3.0  378.50   \n",
       "Retail  Lisbon  19410.0         18.0  1871.944444  1626.486667  120.0  746.00   \n",
       "        Oporto  38102.0         19.0  1239.000000  1065.438042   59.0  392.50   \n",
       "        Other   40827.0        105.0  1826.209524  2119.052222    3.0  545.00   \n",
       "\n",
       "                                         \n",
       "                   50%     75%      max  \n",
       "Channel Region                           \n",
       "Hotel   Lisbon   749.0  1621.5   6854.0  \n",
       "        Oporto   883.0  1146.0   5609.0  \n",
       "        Other    823.0  1582.0  47943.0  \n",
       "Retail  Lisbon  1414.0  2456.5   6372.0  \n",
       "        Oporto  1037.0  1815.0   3508.0  \n",
       "        Other   1386.0  2158.0  16523.0  \n",
       "\n",
       "[6 rows x 48 columns]"
      ]
     },
     "execution_count": 11,
     "metadata": {},
     "output_type": "execute_result"
    }
   ],
   "source": [
    "w6=wholesale.groupby(by=['Channel','Region'])[['Fresh','Milk','Grocery','Frozen','Detergents_Paper','Delicatessen']].describe()\n",
    "w6"
   ]
  },
  {
   "cell_type": "code",
   "execution_count": 12,
   "id": "8404a698",
   "metadata": {},
   "outputs": [
    {
     "data": {
      "image/png": "[encoded data removed]",
      "text/plain": [
       "<Figure size 1440x1080 with 6 Axes>"
      ]
     },
     "metadata": {},
     "output_type": "display_data"
    }
   ],
   "source": [
    "fig, axes = plt.subplots(nrows=2,ncols=3)\n",
    "fig.set_size_inches(20,15)\n",
    "a=sns.boxplot(wholesale.Fresh,wholesale.Region,hue=wholesale.Channel,ax=axes[0][0])\n",
    "b=sns.boxplot(wholesale.Milk,wholesale.Region,wholesale.Channel,ax=axes[0][1])\n",
    "c=sns.boxplot(wholesale.Grocery,wholesale.Region,wholesale.Channel,ax=axes[0][2])\n",
    "d=sns.boxplot(wholesale.Frozen,wholesale.Region,wholesale.Channel,ax=axes[1][0])\n",
    "e=sns.boxplot(wholesale['Detergents_Paper'],wholesale.Region,wholesale.Channel,ax=axes[1][1])\n",
    "f=sns.boxplot(wholesale.Delicatessen,wholesale.Region,wholesale.Channel,ax=axes[1][2]);"
   ]
  },
  {
   "cell_type": "markdown",
   "id": "8c4c38a4",
   "metadata": {},
   "source": [
    "####  Items Behavior Across Region and Channel\n",
    "1. Fresh items are mostly prefered by Hotel Channels in all three regions. Their IQR is wide spread in all three regions and the distribution is a bit right skewed. The ouliers present in all three region but most widely spread in other region with high values.\n",
    "2. Milk is mostly preferd by retail channels in all three regions. The spread of data is much wider in Oporto region as compare to others and there are no ouliers present in Oporto region which makes its more accurate as other and lisbon region has too many ouliers which can affect the mean spending.\n",
    "3. Grocery is also Prefered by Retail channels in all three regions but Lisbon the region where customer spends the most. The spread of data is also wider in Lisbon and almost follow a noraml distribution.\n",
    "4. Frozen items are prefered by Hotel channels in all three regions as their average spending is almost similar, but Oproto region is higher in all three and also follows almost normal distribution and closely spread data. there is ouliers present in the data for all three regions which can affect the mean and standard deviation.\n",
    "5. Deterdent Paper has more spending by retail channels than hotel channels in all three regions , but the most spending is in Lisbon region. The data is wide spread in Lisbon region and its postively skewed. as there are ouliers present in other and oporto region that can affect is mean and standard deviation.\n",
    "6. Average spending on Delicatessen are almost similar in both channels and in all three regions. Oporto is least spending area through hotel channel. All the data are closely spread. There is oultiers present in all the regions and Channels."
   ]
  },
  {
   "cell_type": "markdown",
   "id": "a45a5e30",
   "metadata": {},
   "source": [
    "#### Q-1.3 On the basis of a descriptive measure of variability, which item shows the most inconsistent behaviour? Which items show the least inconsistent behaviour?"
   ]
  },
  {
   "cell_type": "code",
   "execution_count": 13,
   "id": "638661a1",
   "metadata": {},
   "outputs": [
    {
     "data": {
      "text/html": [
       "<div>\n",
       "<style scoped>\n",
       "    .dataframe tbody tr th:only-of-type {\n",
       "        vertical-align: middle;\n",
       "    }\n",
       "\n",
       "    .dataframe tbody tr th {\n",
       "        vertical-align: top;\n",
       "    }\n",
       "\n",
       "    .dataframe thead th {\n",
       "        text-align: right;\n",
       "    }\n",
       "</style>\n",
       "<table border=\"1\" class=\"dataframe\">\n",
       "  <thead>\n",
       "    <tr style=\"text-align: right;\">\n",
       "      <th></th>\n",
       "      <th>Fresh</th>\n",
       "      <th>Milk</th>\n",
       "      <th>Grocery</th>\n",
       "      <th>Frozen</th>\n",
       "      <th>Detergents_Paper</th>\n",
       "      <th>Delicatessen</th>\n",
       "    </tr>\n",
       "  </thead>\n",
       "  <tbody>\n",
       "    <tr>\n",
       "      <th>count</th>\n",
       "      <td>440.000000</td>\n",
       "      <td>440.000000</td>\n",
       "      <td>440.000000</td>\n",
       "      <td>440.000000</td>\n",
       "      <td>440.000000</td>\n",
       "      <td>440.000000</td>\n",
       "    </tr>\n",
       "    <tr>\n",
       "      <th>mean</th>\n",
       "      <td>12000.297727</td>\n",
       "      <td>5796.265909</td>\n",
       "      <td>7951.277273</td>\n",
       "      <td>3071.931818</td>\n",
       "      <td>2881.493182</td>\n",
       "      <td>1524.870455</td>\n",
       "    </tr>\n",
       "    <tr>\n",
       "      <th>std</th>\n",
       "      <td>12647.328865</td>\n",
       "      <td>7380.377175</td>\n",
       "      <td>9503.162829</td>\n",
       "      <td>4854.673333</td>\n",
       "      <td>4767.854448</td>\n",
       "      <td>2820.105937</td>\n",
       "    </tr>\n",
       "    <tr>\n",
       "      <th>min</th>\n",
       "      <td>3.000000</td>\n",
       "      <td>55.000000</td>\n",
       "      <td>3.000000</td>\n",
       "      <td>25.000000</td>\n",
       "      <td>3.000000</td>\n",
       "      <td>3.000000</td>\n",
       "    </tr>\n",
       "    <tr>\n",
       "      <th>25%</th>\n",
       "      <td>3127.750000</td>\n",
       "      <td>1533.000000</td>\n",
       "      <td>2153.000000</td>\n",
       "      <td>742.250000</td>\n",
       "      <td>256.750000</td>\n",
       "      <td>408.250000</td>\n",
       "    </tr>\n",
       "    <tr>\n",
       "      <th>50%</th>\n",
       "      <td>8504.000000</td>\n",
       "      <td>3627.000000</td>\n",
       "      <td>4755.500000</td>\n",
       "      <td>1526.000000</td>\n",
       "      <td>816.500000</td>\n",
       "      <td>965.500000</td>\n",
       "    </tr>\n",
       "    <tr>\n",
       "      <th>75%</th>\n",
       "      <td>16933.750000</td>\n",
       "      <td>7190.250000</td>\n",
       "      <td>10655.750000</td>\n",
       "      <td>3554.250000</td>\n",
       "      <td>3922.000000</td>\n",
       "      <td>1820.250000</td>\n",
       "    </tr>\n",
       "    <tr>\n",
       "      <th>max</th>\n",
       "      <td>112151.000000</td>\n",
       "      <td>73498.000000</td>\n",
       "      <td>92780.000000</td>\n",
       "      <td>60869.000000</td>\n",
       "      <td>40827.000000</td>\n",
       "      <td>47943.000000</td>\n",
       "    </tr>\n",
       "    <tr>\n",
       "      <th>CV</th>\n",
       "      <td>1.053918</td>\n",
       "      <td>1.273299</td>\n",
       "      <td>1.195174</td>\n",
       "      <td>1.580332</td>\n",
       "      <td>1.654647</td>\n",
       "      <td>1.849407</td>\n",
       "    </tr>\n",
       "  </tbody>\n",
       "</table>\n",
       "</div>"
      ],
      "text/plain": [
       "               Fresh          Milk       Grocery        Frozen  \\\n",
       "count     440.000000    440.000000    440.000000    440.000000   \n",
       "mean    12000.297727   5796.265909   7951.277273   3071.931818   \n",
       "std     12647.328865   7380.377175   9503.162829   4854.673333   \n",
       "min         3.000000     55.000000      3.000000     25.000000   \n",
       "25%      3127.750000   1533.000000   2153.000000    742.250000   \n",
       "50%      8504.000000   3627.000000   4755.500000   1526.000000   \n",
       "75%     16933.750000   7190.250000  10655.750000   3554.250000   \n",
       "max    112151.000000  73498.000000  92780.000000  60869.000000   \n",
       "CV          1.053918      1.273299      1.195174      1.580332   \n",
       "\n",
       "       Detergents_Paper  Delicatessen  \n",
       "count        440.000000    440.000000  \n",
       "mean        2881.493182   1524.870455  \n",
       "std         4767.854448   2820.105937  \n",
       "min            3.000000      3.000000  \n",
       "25%          256.750000    408.250000  \n",
       "50%          816.500000    965.500000  \n",
       "75%         3922.000000   1820.250000  \n",
       "max        40827.000000  47943.000000  \n",
       "CV             1.654647      1.849407  "
      ]
     },
     "execution_count": 13,
     "metadata": {},
     "output_type": "execute_result"
    }
   ],
   "source": [
    "W_1=wholesale.describe()\n",
    "W_1.loc[('CV'),:]= W_1.loc[('std'),:]/W_1.loc[('mean'),:]\n",
    "W_1.drop('Buyer/Spender',axis=1)"
   ]
  },
  {
   "cell_type": "markdown",
   "id": "bbeceabf",
   "metadata": {},
   "source": [
    "Based on the table and values of Coefficient of Variance (CV)\n",
    "1. The item that shows most inconsistence behaviour is Delicatessen as it has highest CV value of 1.849407.\n",
    "2. The item that shows least inconsistence behaviour is Fresh Items as it has the lowest CV value of 1.053918."
   ]
  },
  {
   "cell_type": "markdown",
   "id": "5086bafe",
   "metadata": {},
   "source": [
    "#### Q-1.4 Are there any outliers in the data? Back up your answer with a suitable plot/technique with the help of detailed comments."
   ]
  },
  {
   "cell_type": "code",
   "execution_count": 14,
   "id": "3565d339",
   "metadata": {},
   "outputs": [
    {
     "data": {
      "image/png": "[encoded data removed]",
      "text/plain": [
       "<Figure size 1440x720 with 6 Axes>"
      ]
     },
     "metadata": {},
     "output_type": "display_data"
    }
   ],
   "source": [
    "fig, axes = plt.subplots(nrows=2,ncols=3)\n",
    "fig.set_size_inches(20, 10)\n",
    "a=sns.boxplot(wholesale.Fresh,ax=axes[0][0])\n",
    "b=sns.boxplot(wholesale.Milk,ax=axes[0][1])\n",
    "c=sns.boxplot(wholesale.Grocery,ax=axes[0][2])\n",
    "d=sns.boxplot(wholesale.Frozen,ax=axes[1][0])\n",
    "e=sns.boxplot(wholesale['Detergents_Paper'],ax=axes[1][1])\n",
    "f=sns.boxplot(wholesale.Delicatessen,ax=axes[1][2]);"
   ]
  },
  {
   "cell_type": "markdown",
   "id": "b8c0ef00",
   "metadata": {},
   "source": [
    "#### Q-1.5 On the basis of your analysis, what are your recommendations for the business? How can your analysis help the business to solve its problem? Answer from the business perspective"
   ]
  },
  {
   "cell_type": "markdown",
   "id": "a34f6d58",
   "metadata": {},
   "source": [
    "On the analysis of the above data there are few recommendations that we can make,\n",
    "\n",
    "There is a substantial difference in the sales of given 6 items in hotel and retail channels, those which has good sales in Hotel channels there is less sales in retail channels and vice versa. Like Fresh, Frozen these items have very good sales in hotel channels, but we can change the stratergies for the sales of these items in retail channels.we can find the root cause for such difference in sales for these items in both channels and change our stratergies according to that and than try to increase sales. Similarly with Milk, Grocery and detergent paper have a good sales in retail channels as compare to hotel channels. we can around the root cause for these and can try different stratergies and try to increase sales. "
   ]
  },
  {
   "cell_type": "markdown",
   "id": "a67f49b5",
   "metadata": {},
   "source": [
    "# Problem 2\n",
    "\n",
    "## Problem Statement\n",
    "### The Student News Service at Clear Mountain State University (CMSU) has decided to gather data about the undergraduate students that attend CMSU. CMSU creates and distributes a survey of 14 questions and receives responses from 62 undergraduates (stored in the Survey data set)."
   ]
  },
  {
   "cell_type": "code",
   "execution_count": 3,
   "id": "d769b5b7",
   "metadata": {},
   "outputs": [
    {
     "data": {
      "text/html": [
       "<div>\n",
       "<style scoped>\n",
       "    .dataframe tbody tr th:only-of-type {\n",
       "        vertical-align: middle;\n",
       "    }\n",
       "\n",
       "    .dataframe tbody tr th {\n",
       "        vertical-align: top;\n",
       "    }\n",
       "\n",
       "    .dataframe thead th {\n",
       "        text-align: right;\n",
       "    }\n",
       "</style>\n",
       "<table border=\"1\" class=\"dataframe\">\n",
       "  <thead>\n",
       "    <tr style=\"text-align: right;\">\n",
       "      <th></th>\n",
       "      <th>ID</th>\n",
       "      <th>Gender</th>\n",
       "      <th>Age</th>\n",
       "      <th>Class</th>\n",
       "      <th>Major</th>\n",
       "      <th>Grad Intention</th>\n",
       "      <th>GPA</th>\n",
       "      <th>Employment</th>\n",
       "      <th>Salary</th>\n",
       "      <th>Social Networking</th>\n",
       "      <th>Satisfaction</th>\n",
       "      <th>Spending</th>\n",
       "      <th>Computer</th>\n",
       "      <th>Text Messages</th>\n",
       "    </tr>\n",
       "  </thead>\n",
       "  <tbody>\n",
       "    <tr>\n",
       "      <th>0</th>\n",
       "      <td>1</td>\n",
       "      <td>Female</td>\n",
       "      <td>20</td>\n",
       "      <td>Junior</td>\n",
       "      <td>Other</td>\n",
       "      <td>Yes</td>\n",
       "      <td>2.9</td>\n",
       "      <td>Full-Time</td>\n",
       "      <td>50.0</td>\n",
       "      <td>1</td>\n",
       "      <td>3</td>\n",
       "      <td>350</td>\n",
       "      <td>Laptop</td>\n",
       "      <td>200</td>\n",
       "    </tr>\n",
       "    <tr>\n",
       "      <th>1</th>\n",
       "      <td>2</td>\n",
       "      <td>Male</td>\n",
       "      <td>23</td>\n",
       "      <td>Senior</td>\n",
       "      <td>Management</td>\n",
       "      <td>Yes</td>\n",
       "      <td>3.6</td>\n",
       "      <td>Part-Time</td>\n",
       "      <td>25.0</td>\n",
       "      <td>1</td>\n",
       "      <td>4</td>\n",
       "      <td>360</td>\n",
       "      <td>Laptop</td>\n",
       "      <td>50</td>\n",
       "    </tr>\n",
       "    <tr>\n",
       "      <th>2</th>\n",
       "      <td>3</td>\n",
       "      <td>Male</td>\n",
       "      <td>21</td>\n",
       "      <td>Junior</td>\n",
       "      <td>Other</td>\n",
       "      <td>Yes</td>\n",
       "      <td>2.5</td>\n",
       "      <td>Part-Time</td>\n",
       "      <td>45.0</td>\n",
       "      <td>2</td>\n",
       "      <td>4</td>\n",
       "      <td>600</td>\n",
       "      <td>Laptop</td>\n",
       "      <td>200</td>\n",
       "    </tr>\n",
       "    <tr>\n",
       "      <th>3</th>\n",
       "      <td>4</td>\n",
       "      <td>Male</td>\n",
       "      <td>21</td>\n",
       "      <td>Junior</td>\n",
       "      <td>CIS</td>\n",
       "      <td>Yes</td>\n",
       "      <td>2.5</td>\n",
       "      <td>Full-Time</td>\n",
       "      <td>40.0</td>\n",
       "      <td>4</td>\n",
       "      <td>6</td>\n",
       "      <td>600</td>\n",
       "      <td>Laptop</td>\n",
       "      <td>250</td>\n",
       "    </tr>\n",
       "    <tr>\n",
       "      <th>4</th>\n",
       "      <td>5</td>\n",
       "      <td>Male</td>\n",
       "      <td>23</td>\n",
       "      <td>Senior</td>\n",
       "      <td>Other</td>\n",
       "      <td>Undecided</td>\n",
       "      <td>2.8</td>\n",
       "      <td>Unemployed</td>\n",
       "      <td>40.0</td>\n",
       "      <td>2</td>\n",
       "      <td>4</td>\n",
       "      <td>500</td>\n",
       "      <td>Laptop</td>\n",
       "      <td>100</td>\n",
       "    </tr>\n",
       "  </tbody>\n",
       "</table>\n",
       "</div>"
      ],
      "text/plain": [
       "   ID  Gender  Age   Class       Major Grad Intention  GPA  Employment  \\\n",
       "0   1  Female   20  Junior       Other            Yes  2.9   Full-Time   \n",
       "1   2    Male   23  Senior  Management            Yes  3.6   Part-Time   \n",
       "2   3    Male   21  Junior       Other            Yes  2.5   Part-Time   \n",
       "3   4    Male   21  Junior         CIS            Yes  2.5   Full-Time   \n",
       "4   5    Male   23  Senior       Other      Undecided  2.8  Unemployed   \n",
       "\n",
       "   Salary  Social Networking  Satisfaction  Spending Computer  Text Messages  \n",
       "0    50.0                  1             3       350   Laptop            200  \n",
       "1    25.0                  1             4       360   Laptop             50  \n",
       "2    45.0                  2             4       600   Laptop            200  \n",
       "3    40.0                  4             6       600   Laptop            250  \n",
       "4    40.0                  2             4       500   Laptop            100  "
      ]
     },
     "execution_count": 3,
     "metadata": {},
     "output_type": "execute_result"
    }
   ],
   "source": [
    "survey=pd.read_csv('Survey-1.csv')\n",
    "survey.head()"
   ]
  },
  {
   "cell_type": "code",
   "execution_count": 16,
   "id": "197fb072",
   "metadata": {},
   "outputs": [
    {
     "data": {
      "text/plain": [
       "ID                   0\n",
       "Gender               0\n",
       "Age                  0\n",
       "Class                0\n",
       "Major                0\n",
       "Grad Intention       0\n",
       "GPA                  0\n",
       "Employment           0\n",
       "Salary               0\n",
       "Social Networking    0\n",
       "Satisfaction         0\n",
       "Spending             0\n",
       "Computer             0\n",
       "Text Messages        0\n",
       "dtype: int64"
      ]
     },
     "execution_count": 16,
     "metadata": {},
     "output_type": "execute_result"
    }
   ],
   "source": [
    "survey.isnull().sum()"
   ]
  },
  {
   "cell_type": "markdown",
   "id": "3187915a",
   "metadata": {},
   "source": [
    "#### Q-2.1. For this data, construct the following contingency tables (Keep Gender as row variable)\n",
    "\n",
    "###### 2.1.1. Gender and Major\n",
    "\n",
    "###### 2.1.2. Gender and Grad Intention\n",
    "\n",
    "###### 2.1.3. Gender and Employment\n",
    "\n",
    "###### 2.1.4. Gender and Computer"
   ]
  },
  {
   "cell_type": "code",
   "execution_count": 17,
   "id": "fa2e05fe",
   "metadata": {},
   "outputs": [
    {
     "data": {
      "text/html": [
       "<div>\n",
       "<style scoped>\n",
       "    .dataframe tbody tr th:only-of-type {\n",
       "        vertical-align: middle;\n",
       "    }\n",
       "\n",
       "    .dataframe tbody tr th {\n",
       "        vertical-align: top;\n",
       "    }\n",
       "\n",
       "    .dataframe thead th {\n",
       "        text-align: right;\n",
       "    }\n",
       "</style>\n",
       "<table border=\"1\" class=\"dataframe\">\n",
       "  <thead>\n",
       "    <tr style=\"text-align: right;\">\n",
       "      <th>Major</th>\n",
       "      <th>Accounting</th>\n",
       "      <th>CIS</th>\n",
       "      <th>Economics/Finance</th>\n",
       "      <th>International Business</th>\n",
       "      <th>Management</th>\n",
       "      <th>Other</th>\n",
       "      <th>Retailing/Marketing</th>\n",
       "      <th>Undecided</th>\n",
       "    </tr>\n",
       "    <tr>\n",
       "      <th>Gender</th>\n",
       "      <th></th>\n",
       "      <th></th>\n",
       "      <th></th>\n",
       "      <th></th>\n",
       "      <th></th>\n",
       "      <th></th>\n",
       "      <th></th>\n",
       "      <th></th>\n",
       "    </tr>\n",
       "  </thead>\n",
       "  <tbody>\n",
       "    <tr>\n",
       "      <th>Female</th>\n",
       "      <td>3</td>\n",
       "      <td>3</td>\n",
       "      <td>7</td>\n",
       "      <td>4</td>\n",
       "      <td>4</td>\n",
       "      <td>3</td>\n",
       "      <td>9</td>\n",
       "      <td>0</td>\n",
       "    </tr>\n",
       "    <tr>\n",
       "      <th>Male</th>\n",
       "      <td>4</td>\n",
       "      <td>1</td>\n",
       "      <td>4</td>\n",
       "      <td>2</td>\n",
       "      <td>6</td>\n",
       "      <td>4</td>\n",
       "      <td>5</td>\n",
       "      <td>3</td>\n",
       "    </tr>\n",
       "  </tbody>\n",
       "</table>\n",
       "</div>"
      ],
      "text/plain": [
       "Major   Accounting  CIS  Economics/Finance  International Business  \\\n",
       "Gender                                                               \n",
       "Female           3    3                  7                       4   \n",
       "Male             4    1                  4                       2   \n",
       "\n",
       "Major   Management  Other  Retailing/Marketing  Undecided  \n",
       "Gender                                                     \n",
       "Female           4      3                    9          0  \n",
       "Male             6      4                    5          3  "
      ]
     },
     "execution_count": 17,
     "metadata": {},
     "output_type": "execute_result"
    }
   ],
   "source": [
    "# 2.1.1\n",
    "ct1=pd.crosstab(survey['Gender'],survey['Major'])\n",
    "ct1"
   ]
  },
  {
   "cell_type": "code",
   "execution_count": 18,
   "id": "1b2712cb",
   "metadata": {},
   "outputs": [
    {
     "data": {
      "text/html": [
       "<div>\n",
       "<style scoped>\n",
       "    .dataframe tbody tr th:only-of-type {\n",
       "        vertical-align: middle;\n",
       "    }\n",
       "\n",
       "    .dataframe tbody tr th {\n",
       "        vertical-align: top;\n",
       "    }\n",
       "\n",
       "    .dataframe thead th {\n",
       "        text-align: right;\n",
       "    }\n",
       "</style>\n",
       "<table border=\"1\" class=\"dataframe\">\n",
       "  <thead>\n",
       "    <tr style=\"text-align: right;\">\n",
       "      <th>Grad Intention</th>\n",
       "      <th>No</th>\n",
       "      <th>Undecided</th>\n",
       "      <th>Yes</th>\n",
       "    </tr>\n",
       "    <tr>\n",
       "      <th>Gender</th>\n",
       "      <th></th>\n",
       "      <th></th>\n",
       "      <th></th>\n",
       "    </tr>\n",
       "  </thead>\n",
       "  <tbody>\n",
       "    <tr>\n",
       "      <th>Female</th>\n",
       "      <td>9</td>\n",
       "      <td>13</td>\n",
       "      <td>11</td>\n",
       "    </tr>\n",
       "    <tr>\n",
       "      <th>Male</th>\n",
       "      <td>3</td>\n",
       "      <td>9</td>\n",
       "      <td>17</td>\n",
       "    </tr>\n",
       "  </tbody>\n",
       "</table>\n",
       "</div>"
      ],
      "text/plain": [
       "Grad Intention  No  Undecided  Yes\n",
       "Gender                            \n",
       "Female           9         13   11\n",
       "Male             3          9   17"
      ]
     },
     "execution_count": 18,
     "metadata": {},
     "output_type": "execute_result"
    }
   ],
   "source": [
    "# 2.1.2\n",
    "ct2=pd.crosstab(survey['Gender'],survey['Grad Intention'])\n",
    "ct2\n"
   ]
  },
  {
   "cell_type": "code",
   "execution_count": 19,
   "id": "4512f66e",
   "metadata": {},
   "outputs": [
    {
     "data": {
      "text/html": [
       "<div>\n",
       "<style scoped>\n",
       "    .dataframe tbody tr th:only-of-type {\n",
       "        vertical-align: middle;\n",
       "    }\n",
       "\n",
       "    .dataframe tbody tr th {\n",
       "        vertical-align: top;\n",
       "    }\n",
       "\n",
       "    .dataframe thead th {\n",
       "        text-align: right;\n",
       "    }\n",
       "</style>\n",
       "<table border=\"1\" class=\"dataframe\">\n",
       "  <thead>\n",
       "    <tr style=\"text-align: right;\">\n",
       "      <th>Employment</th>\n",
       "      <th>Full-Time</th>\n",
       "      <th>Part-Time</th>\n",
       "      <th>Unemployed</th>\n",
       "    </tr>\n",
       "    <tr>\n",
       "      <th>Gender</th>\n",
       "      <th></th>\n",
       "      <th></th>\n",
       "      <th></th>\n",
       "    </tr>\n",
       "  </thead>\n",
       "  <tbody>\n",
       "    <tr>\n",
       "      <th>Female</th>\n",
       "      <td>3</td>\n",
       "      <td>24</td>\n",
       "      <td>6</td>\n",
       "    </tr>\n",
       "    <tr>\n",
       "      <th>Male</th>\n",
       "      <td>7</td>\n",
       "      <td>19</td>\n",
       "      <td>3</td>\n",
       "    </tr>\n",
       "  </tbody>\n",
       "</table>\n",
       "</div>"
      ],
      "text/plain": [
       "Employment  Full-Time  Part-Time  Unemployed\n",
       "Gender                                      \n",
       "Female              3         24           6\n",
       "Male                7         19           3"
      ]
     },
     "execution_count": 19,
     "metadata": {},
     "output_type": "execute_result"
    }
   ],
   "source": [
    "#2.1.3\n",
    "ct3=pd.crosstab(survey['Gender'],survey['Employment'])\n",
    "ct3"
   ]
  },
  {
   "cell_type": "code",
   "execution_count": 20,
   "id": "80e973c8",
   "metadata": {},
   "outputs": [
    {
     "data": {
      "text/html": [
       "<div>\n",
       "<style scoped>\n",
       "    .dataframe tbody tr th:only-of-type {\n",
       "        vertical-align: middle;\n",
       "    }\n",
       "\n",
       "    .dataframe tbody tr th {\n",
       "        vertical-align: top;\n",
       "    }\n",
       "\n",
       "    .dataframe thead th {\n",
       "        text-align: right;\n",
       "    }\n",
       "</style>\n",
       "<table border=\"1\" class=\"dataframe\">\n",
       "  <thead>\n",
       "    <tr style=\"text-align: right;\">\n",
       "      <th>Computer</th>\n",
       "      <th>Desktop</th>\n",
       "      <th>Laptop</th>\n",
       "      <th>Tablet</th>\n",
       "    </tr>\n",
       "    <tr>\n",
       "      <th>Gender</th>\n",
       "      <th></th>\n",
       "      <th></th>\n",
       "      <th></th>\n",
       "    </tr>\n",
       "  </thead>\n",
       "  <tbody>\n",
       "    <tr>\n",
       "      <th>Female</th>\n",
       "      <td>2</td>\n",
       "      <td>29</td>\n",
       "      <td>2</td>\n",
       "    </tr>\n",
       "    <tr>\n",
       "      <th>Male</th>\n",
       "      <td>3</td>\n",
       "      <td>26</td>\n",
       "      <td>0</td>\n",
       "    </tr>\n",
       "  </tbody>\n",
       "</table>\n",
       "</div>"
      ],
      "text/plain": [
       "Computer  Desktop  Laptop  Tablet\n",
       "Gender                           \n",
       "Female          2      29       2\n",
       "Male            3      26       0"
      ]
     },
     "execution_count": 20,
     "metadata": {},
     "output_type": "execute_result"
    }
   ],
   "source": [
    "# 2.1.4\n",
    "ct4=pd.crosstab(survey['Gender'],survey['Computer'])\n",
    "ct4"
   ]
  },
  {
   "cell_type": "markdown",
   "id": "d0b1247e",
   "metadata": {},
   "source": [
    "#### Q-2.2. Assume that the sample is representative of the population of CMSU. Based on the data, answer the following question:\n",
    "\n",
    "###### 2.2.1. What is the probability that a randomly selected CMSU student will be male?\n",
    "\n",
    "###### 2.2.2. What is the probability that a randomly selected CMSU student will be female?"
   ]
  },
  {
   "cell_type": "code",
   "execution_count": 21,
   "id": "09c386a0",
   "metadata": {},
   "outputs": [
    {
     "data": {
      "text/plain": [
       "Female    33\n",
       "Male      29\n",
       "Name: Gender, dtype: int64"
      ]
     },
     "execution_count": 21,
     "metadata": {},
     "output_type": "execute_result"
    }
   ],
   "source": [
    "survey['Gender'].value_counts()"
   ]
  },
  {
   "cell_type": "code",
   "execution_count": 22,
   "id": "d77cc2d0",
   "metadata": {},
   "outputs": [
    {
     "name": "stdout",
     "output_type": "stream",
     "text": [
      "The probability that a randomly selected CMSU student will be male is 46.77%\n"
     ]
    }
   ],
   "source": [
    "# 2.2.1\n",
    "print(\"The probability that a randomly selected CMSU student will be male is {:0.2%}\".\n",
    "      format(survey['Gender'].value_counts().values[1]/len(survey.Gender)))"
   ]
  },
  {
   "cell_type": "code",
   "execution_count": 23,
   "id": "62c28aea",
   "metadata": {},
   "outputs": [
    {
     "name": "stdout",
     "output_type": "stream",
     "text": [
      "The probability that a randomly selected CMSU student will be Female is 53.23%\n"
     ]
    }
   ],
   "source": [
    "# 2.2.2\n",
    "print(\"The probability that a randomly selected CMSU student will be Female is {:0.2%}\".\n",
    "      format(survey['Gender'].value_counts().values[0]/len(survey.Gender)))"
   ]
  },
  {
   "cell_type": "markdown",
   "id": "a0e7854b",
   "metadata": {},
   "source": [
    "#### Q-2.3. Assume that the sample is representative of the population of CMSU. Based on the data, answer the following question:\n",
    "\n",
    "###### 2.3.1. Find the conditional probability of different majors among the male students in CMSU.\n",
    "\n",
    "###### 2.3.2 Find the conditional probability of different majors among the female students of CMSU"
   ]
  },
  {
   "cell_type": "code",
   "execution_count": 24,
   "id": "1dc97f52",
   "metadata": {},
   "outputs": [
    {
     "data": {
      "text/html": [
       "<div>\n",
       "<style scoped>\n",
       "    .dataframe tbody tr th:only-of-type {\n",
       "        vertical-align: middle;\n",
       "    }\n",
       "\n",
       "    .dataframe tbody tr th {\n",
       "        vertical-align: top;\n",
       "    }\n",
       "\n",
       "    .dataframe thead th {\n",
       "        text-align: right;\n",
       "    }\n",
       "</style>\n",
       "<table border=\"1\" class=\"dataframe\">\n",
       "  <thead>\n",
       "    <tr style=\"text-align: right;\">\n",
       "      <th>Major</th>\n",
       "      <th>Accounting</th>\n",
       "      <th>CIS</th>\n",
       "      <th>Economics/Finance</th>\n",
       "      <th>International Business</th>\n",
       "      <th>Management</th>\n",
       "      <th>Other</th>\n",
       "      <th>Retailing/Marketing</th>\n",
       "      <th>Undecided</th>\n",
       "    </tr>\n",
       "  </thead>\n",
       "  <tbody>\n",
       "  </tbody>\n",
       "</table>\n",
       "</div>"
      ],
      "text/plain": [
       "Empty DataFrame\n",
       "Columns: [Accounting, CIS, Economics/Finance, International Business, Management, Other, Retailing/Marketing, Undecided]\n",
       "Index: []"
      ]
     },
     "execution_count": 24,
     "metadata": {},
     "output_type": "execute_result"
    }
   ],
   "source": [
    "S1=pd.DataFrame(columns=ct1.columns,index=None)\n",
    "S1"
   ]
  },
  {
   "cell_type": "code",
   "execution_count": 25,
   "id": "1f3c41c7",
   "metadata": {},
   "outputs": [
    {
     "data": {
      "text/html": [
       "<div>\n",
       "<style scoped>\n",
       "    .dataframe tbody tr th:only-of-type {\n",
       "        vertical-align: middle;\n",
       "    }\n",
       "\n",
       "    .dataframe tbody tr th {\n",
       "        vertical-align: top;\n",
       "    }\n",
       "\n",
       "    .dataframe thead th {\n",
       "        text-align: right;\n",
       "    }\n",
       "</style>\n",
       "<table border=\"1\" class=\"dataframe\">\n",
       "  <thead>\n",
       "    <tr style=\"text-align: right;\">\n",
       "      <th>Major</th>\n",
       "      <th>Accounting</th>\n",
       "      <th>CIS</th>\n",
       "      <th>Economics/Finance</th>\n",
       "      <th>International Business</th>\n",
       "      <th>Management</th>\n",
       "      <th>Other</th>\n",
       "      <th>Retailing/Marketing</th>\n",
       "      <th>Undecided</th>\n",
       "    </tr>\n",
       "  </thead>\n",
       "  <tbody>\n",
       "    <tr>\n",
       "      <th>0</th>\n",
       "      <td>4</td>\n",
       "      <td>1</td>\n",
       "      <td>4</td>\n",
       "      <td>2</td>\n",
       "      <td>6</td>\n",
       "      <td>4</td>\n",
       "      <td>5</td>\n",
       "      <td>3</td>\n",
       "    </tr>\n",
       "    <tr>\n",
       "      <th>1</th>\n",
       "      <td>14.0</td>\n",
       "      <td>3.0</td>\n",
       "      <td>14.0</td>\n",
       "      <td>7.0</td>\n",
       "      <td>21.0</td>\n",
       "      <td>14.0</td>\n",
       "      <td>17.0</td>\n",
       "      <td>10.0</td>\n",
       "    </tr>\n",
       "  </tbody>\n",
       "</table>\n",
       "</div>"
      ],
      "text/plain": [
       "Major Accounting  CIS Economics/Finance International Business Management  \\\n",
       "0              4    1                 4                      2          6   \n",
       "1           14.0  3.0              14.0                    7.0       21.0   \n",
       "\n",
       "Major Other Retailing/Marketing Undecided  \n",
       "0         4                   5         3  \n",
       "1      14.0                17.0      10.0  "
      ]
     },
     "execution_count": 25,
     "metadata": {},
     "output_type": "execute_result"
    }
   ],
   "source": [
    "# 2.3.1\n",
    "i=ct1.iloc[1,:]\n",
    "b=ct1.iloc[1,:].sum()\n",
    "a=round(i/b,2)*100\n",
    "S2=S1.append(i)\n",
    "S3=S2.append(a,\"Probability\")\n",
    "S3\n"
   ]
  },
  {
   "cell_type": "code",
   "execution_count": 26,
   "id": "c31a610b",
   "metadata": {},
   "outputs": [
    {
     "data": {
      "text/html": [
       "<div>\n",
       "<style scoped>\n",
       "    .dataframe tbody tr th:only-of-type {\n",
       "        vertical-align: middle;\n",
       "    }\n",
       "\n",
       "    .dataframe tbody tr th {\n",
       "        vertical-align: top;\n",
       "    }\n",
       "\n",
       "    .dataframe thead th {\n",
       "        text-align: right;\n",
       "    }\n",
       "</style>\n",
       "<table border=\"1\" class=\"dataframe\">\n",
       "  <thead>\n",
       "    <tr style=\"text-align: right;\">\n",
       "      <th>Major</th>\n",
       "      <th>Accounting</th>\n",
       "      <th>CIS</th>\n",
       "      <th>Economics/Finance</th>\n",
       "      <th>International Business</th>\n",
       "      <th>Management</th>\n",
       "      <th>Other</th>\n",
       "      <th>Retailing/Marketing</th>\n",
       "      <th>Undecided</th>\n",
       "    </tr>\n",
       "  </thead>\n",
       "  <tbody>\n",
       "    <tr>\n",
       "      <th>0</th>\n",
       "      <td>3</td>\n",
       "      <td>3</td>\n",
       "      <td>7</td>\n",
       "      <td>4</td>\n",
       "      <td>4</td>\n",
       "      <td>3</td>\n",
       "      <td>9</td>\n",
       "      <td>0</td>\n",
       "    </tr>\n",
       "    <tr>\n",
       "      <th>1</th>\n",
       "      <td>9.0</td>\n",
       "      <td>9.0</td>\n",
       "      <td>21.0</td>\n",
       "      <td>12.0</td>\n",
       "      <td>12.0</td>\n",
       "      <td>9.0</td>\n",
       "      <td>27.0</td>\n",
       "      <td>0.0</td>\n",
       "    </tr>\n",
       "  </tbody>\n",
       "</table>\n",
       "</div>"
      ],
      "text/plain": [
       "Major Accounting  CIS Economics/Finance International Business Management  \\\n",
       "0              3    3                 7                      4          4   \n",
       "1            9.0  9.0              21.0                   12.0       12.0   \n",
       "\n",
       "Major Other Retailing/Marketing Undecided  \n",
       "0         3                   9         0  \n",
       "1       9.0                27.0       0.0  "
      ]
     },
     "execution_count": 26,
     "metadata": {},
     "output_type": "execute_result"
    }
   ],
   "source": [
    "# 2.3.2\n",
    "for i in ct1:\n",
    "    i=ct1.iloc[0,:]\n",
    "    b=ct1.iloc[0,:].sum()\n",
    "    a=round(i/b,2)*100\n",
    "    S4=S1.append(i)\n",
    "    S5=S4.append(a,'Probability')\n",
    "S5"
   ]
  },
  {
   "cell_type": "markdown",
   "id": "066ff0c0",
   "metadata": {},
   "source": [
    "#### Q-2.4. Assume that the sample is a representative of the population of CMSU. Based on the data, answer the following question:\n",
    "\n",
    "###### 2.4.1. Find the probability That a randomly chosen student is a male and intends to graduate.\n",
    "\n",
    "###### 2.4.2 Find the probability that a randomly selected student is a female and does NOT have a laptop."
   ]
  },
  {
   "cell_type": "code",
   "execution_count": 27,
   "id": "d3c9f188",
   "metadata": {},
   "outputs": [
    {
     "name": "stdout",
     "output_type": "stream",
     "text": [
      "The probability That a randomly chosen student is a male 17 and intends to graduate is 27.42%\n"
     ]
    }
   ],
   "source": [
    "# 2.4.1\n",
    "print('The probability That a randomly chosen student is a male {} and intends to graduate is {:0.2%}'.\n",
    "      format(ct2.iloc[1,2],ct2.iloc[1,2]/62))"
   ]
  },
  {
   "cell_type": "code",
   "execution_count": 28,
   "id": "5d1f4810",
   "metadata": {},
   "outputs": [
    {
     "name": "stdout",
     "output_type": "stream",
     "text": [
      "The probability that a randomly selected student is a female and does NOT have a laptop is 6.45%\n"
     ]
    }
   ],
   "source": [
    "# 2.4.2\n",
    "print('The probability that a randomly selected student is a female and does NOT have a laptop is {:0.2%}'.\n",
    "      format((ct4.iloc[0,:].sum()-ct4.iloc[0,1])/62))"
   ]
  },
  {
   "cell_type": "markdown",
   "id": "374b7a1d",
   "metadata": {},
   "source": [
    "#### Q- 2.5. Assume that the sample is representative of the population of CMSU. Based on the data, answer the following question:\n",
    "\n",
    "###### 2.5.1. Find the probability that a randomly chosen student is a male or has full-time employment?\n",
    "\n",
    "###### 2.5.2. Find the conditional probability that given a female student is randomly chosen, she is majoring in international business or management."
   ]
  },
  {
   "cell_type": "code",
   "execution_count": 29,
   "id": "7e9b5e8b",
   "metadata": {},
   "outputs": [
    {
     "name": "stdout",
     "output_type": "stream",
     "text": [
      "P(M)=29/62= 0.46774193548387094\n",
      "P(FE)=10/62= 0.16129032258064516\n",
      "P(M ∩ FE)= 0.11290322580645161\n",
      "P(M or FE) = P(M)+P(FE)-P(M ∩ FE)\n",
      " \n",
      "The probability that a randomly chosen student is a male or has full-time employment is 0.516\n"
     ]
    }
   ],
   "source": [
    "#2.5.1\n",
    "print('P(M)=29/62=',(29/62))\n",
    "print('P(FE)=10/62=',(10/62))\n",
    "print('P(M ∩ FE)=',(7/62))\n",
    "print('P(M or FE) = P(M)+P(FE)-P(M ∩ FE)')\n",
    "print(\" \")\n",
    "\n",
    "print('The probability that a randomly chosen student is a male or has full-time employment is {}'.format((0.468+0.161)-0.113))"
   ]
  },
  {
   "cell_type": "code",
   "execution_count": 30,
   "id": "a979c501",
   "metadata": {},
   "outputs": [
    {
     "name": "stdout",
     "output_type": "stream",
     "text": [
      "P(International Business or Managment| Female)\n",
      "P(A)= Probability of a female\n",
      "P(B)=Probability of International business or managment\n",
      "P(B|A)=probability of International business or managment given a female\n",
      "P(B|A)= P(A ∩ B)/P(A)\n",
      "\n",
      "The conditional probability that given a female student is randomly chosen, she is majoring in\n",
      "international business or management is. 24.24 %\n"
     ]
    }
   ],
   "source": [
    "#2.5.2\n",
    "print('P(International Business or Managment| Female)')\n",
    "x=(ct1.iloc[0,3]/ct1.iloc[0,:].sum())+(ct1.iloc[0,4]/ct1.iloc[0,:].sum())\n",
    "print('P(A)= Probability of a female')\n",
    "print('P(B)=Probability of International business or managment')\n",
    "print('P(B|A)=probability of International business or managment given a female')\n",
    "print('P(B|A)= P(A ∩ B)/P(A)')\n",
    "print('')\n",
    "print('The conditional probability that given a female student is randomly chosen, she is majoring in'\n",
    "      '\\ninternational business or management is.',round(x*100,2),'%')"
   ]
  },
  {
   "cell_type": "markdown",
   "id": "67a7dfa6",
   "metadata": {},
   "source": [
    "#### Q-2.6.  Construct a contingency table of Gender and Intent to Graduate at 2 levels (Yes/No). The Undecided students are not considered now and the table is a 2x2 table. Do you think the graduate intention and being female are independent events?"
   ]
  },
  {
   "cell_type": "code",
   "execution_count": 31,
   "id": "f97c1f36",
   "metadata": {},
   "outputs": [
    {
     "data": {
      "text/html": [
       "<div>\n",
       "<style scoped>\n",
       "    .dataframe tbody tr th:only-of-type {\n",
       "        vertical-align: middle;\n",
       "    }\n",
       "\n",
       "    .dataframe tbody tr th {\n",
       "        vertical-align: top;\n",
       "    }\n",
       "\n",
       "    .dataframe thead th {\n",
       "        text-align: right;\n",
       "    }\n",
       "</style>\n",
       "<table border=\"1\" class=\"dataframe\">\n",
       "  <thead>\n",
       "    <tr style=\"text-align: right;\">\n",
       "      <th>Grad Intention</th>\n",
       "      <th>No</th>\n",
       "      <th>Yes</th>\n",
       "    </tr>\n",
       "    <tr>\n",
       "      <th>Gender</th>\n",
       "      <th></th>\n",
       "      <th></th>\n",
       "    </tr>\n",
       "  </thead>\n",
       "  <tbody>\n",
       "    <tr>\n",
       "      <th>Female</th>\n",
       "      <td>9</td>\n",
       "      <td>11</td>\n",
       "    </tr>\n",
       "    <tr>\n",
       "      <th>Male</th>\n",
       "      <td>3</td>\n",
       "      <td>17</td>\n",
       "    </tr>\n",
       "  </tbody>\n",
       "</table>\n",
       "</div>"
      ],
      "text/plain": [
       "Grad Intention  No  Yes\n",
       "Gender                 \n",
       "Female           9   11\n",
       "Male             3   17"
      ]
     },
     "execution_count": 31,
     "metadata": {},
     "output_type": "execute_result"
    }
   ],
   "source": [
    "ct2.drop('Undecided',axis=1)"
   ]
  },
  {
   "cell_type": "markdown",
   "id": "ecf496ca",
   "metadata": {},
   "source": [
    "Graduate Intention is yes = GI\n",
    "\n",
    "Female = F\n",
    "\n",
    "P(GI ∩ F)= P(GI) * P(F)\n",
    "\n",
    "For graduate intention and being female are independent events this above condition should be satisfy so,\n",
    "\n",
    "P(GI)= 28/40 = 0.7\n",
    "\n",
    "P(F) = 20/40 = 0.5\n",
    "\n",
    "P(GI) * P(F) = 0.7 * 0.5 = 0.35\n",
    "\n",
    "P(GI ∩ F) = 11/40 = 0.275\n",
    "\n",
    "As we can check these are not independent events as probability multiplication of both events is not equal to combined event, so being a Graduate Intention and being female candidate are not independent events."
   ]
  },
  {
   "cell_type": "markdown",
   "id": "8301a6cd",
   "metadata": {},
   "source": [
    "#### Q-2.7. Note that there are four numerical (continuous) variables in the data set, GPA, Salary, Spending, and Text Messages.\n",
    "\n",
    "##### Answer the following questions based on the data\n",
    "\n",
    "###### 2.7.1. If a student is chosen randomly, what is the probability that his/her GPA is less than 3?\n",
    "\n",
    "###### 2.7.2. Find the conditional probability that a randomly selected male earns 50 or more. Find the conditional probability that a randomly selected female earns 50 or more.\n"
   ]
  },
  {
   "cell_type": "code",
   "execution_count": 32,
   "id": "31e9ab1a",
   "metadata": {},
   "outputs": [
    {
     "name": "stdout",
     "output_type": "stream",
     "text": [
      "If a student is chosen randomly,The probability that his/her GPA is less than 3 is 27.42 %\n"
     ]
    }
   ],
   "source": [
    "# 2.7.1\n",
    "survey[survey['GPA']<3]['Gender'].count()\n",
    "print('If a student is chosen randomly,The probability that his/her GPA is less than 3 is',round(17/62*100,2),'%')"
   ]
  },
  {
   "cell_type": "code",
   "execution_count": 33,
   "id": "ed46e096",
   "metadata": {},
   "outputs": [
    {
     "name": "stdout",
     "output_type": "stream",
     "text": [
      "The conditional probability that a randomly selected male earns 50 or more is 34.48 %\n",
      "\n",
      "The conditional probability that a randomly selected female earns 50 or more is 39.39 %\n"
     ]
    }
   ],
   "source": [
    "#2.7.2\n",
    "survey[(survey['Gender']=='Male') & (survey['Salary']>=50)]['Gender'].count()\n",
    "survey[(survey['Gender']=='Female') & (survey['Salary']>=50)]['Gender'].count()\n",
    "print('The conditional probability that a randomly selected male earns 50 or more is',\n",
    "      round(survey[(survey['Gender']=='Male') & (survey['Salary']>50)]['Gender'].count()/29*100,2),'%')\n",
    "print('')\n",
    "print('The conditional probability that a randomly selected female earns 50 or more is',\n",
    "      round(survey[(survey['Gender']=='Female') & (survey['Salary']>50)]['Gender'].count()/33*100,2),'%')"
   ]
  },
  {
   "cell_type": "markdown",
   "id": "bb2633b1",
   "metadata": {},
   "source": [
    "#### Q-2.8.1 Note that there are four numerical (continuous) variables in the data set, GPA, Salary, Spending, and Text Messages. For each of them comment whether they follow a normal distribution. Write a note summarizing your conclusions.\n",
    "\n",
    "#### Q 2.8.2 Write a note summarizing your conclusions"
   ]
  },
  {
   "cell_type": "code",
   "execution_count": 34,
   "id": "018fbf8f",
   "metadata": {},
   "outputs": [
    {
     "data": {
      "image/png": "[encoded data removed]",
      "text/plain": [
       "<Figure size 720x720 with 4 Axes>"
      ]
     },
     "metadata": {},
     "output_type": "display_data"
    }
   ],
   "source": [
    "survey[['GPA','Salary','Spending','Text Messages']].hist(figsize=(10,10),legend=True);"
   ]
  },
  {
   "cell_type": "code",
   "execution_count": 35,
   "id": "91062756",
   "metadata": {},
   "outputs": [
    {
     "name": "stdout",
     "output_type": "stream",
     "text": [
      "Skewness of GPA = -0.3069370607018797\n",
      "Skewness of Salary = 0.5216766008645851\n",
      "Skewness of Spending = 1.5472850312929523\n",
      "Skewness of Text Messages = 1.2642446834439687\n"
     ]
    }
   ],
   "source": [
    "print('Skewness of GPA =',stats.skew(survey.GPA))\n",
    "print('Skewness of Salary =',stats.skew(survey.Salary))\n",
    "print('Skewness of Spending =',stats.skew(survey.Spending))\n",
    "print('Skewness of Text Messages =',stats.skew(survey['Text Messages']))"
   ]
  },
  {
   "cell_type": "markdown",
   "id": "9e060fa0",
   "metadata": {},
   "source": [
    "As we can see from the plots and stats that\n",
    "1. GPA is almost normaly distributed as it has very slight skewness\n",
    "2. Salary is a bit right or positvely skewed\n",
    "3. Spending is highly skewed towards riht or positive side.\n",
    "4. Text messages also highly right skewed."
   ]
  },
  {
   "cell_type": "code",
   "execution_count": 4,
   "id": "c4b17964",
   "metadata": {},
   "outputs": [
    {
     "ename": "NameError",
     "evalue": "name 'f4' is not defined",
     "output_type": "error",
     "traceback": [
      "\u001b[1;31m---------------------------------------------------------------------------\u001b[0m",
      "\u001b[1;31mNameError\u001b[0m                                 Traceback (most recent call last)",
      "\u001b[1;32m<ipython-input-4-b2577198c0fd>\u001b[0m in \u001b[0;36m<module>\u001b[1;34m\u001b[0m\n\u001b[0;32m      3\u001b[0m \u001b[0mf3\u001b[0m\u001b[1;33m,\u001b[0m\u001b[0mp3\u001b[0m\u001b[1;33m=\u001b[0m\u001b[0mstats\u001b[0m\u001b[1;33m.\u001b[0m\u001b[0mshapiro\u001b[0m\u001b[1;33m(\u001b[0m\u001b[0msurvey\u001b[0m\u001b[1;33m.\u001b[0m\u001b[0mSpending\u001b[0m\u001b[1;33m)\u001b[0m\u001b[1;33m\u001b[0m\u001b[1;33m\u001b[0m\u001b[0m\n\u001b[0;32m      4\u001b[0m \u001b[0mf1\u001b[0m\u001b[1;33m,\u001b[0m\u001b[0mp1\u001b[0m\u001b[1;33m=\u001b[0m\u001b[0mstats\u001b[0m\u001b[1;33m.\u001b[0m\u001b[0mshapiro\u001b[0m\u001b[1;33m(\u001b[0m\u001b[0msurvey\u001b[0m\u001b[1;33m[\u001b[0m\u001b[1;34m'Text Messages'\u001b[0m\u001b[1;33m]\u001b[0m\u001b[1;33m)\u001b[0m\u001b[1;33m\u001b[0m\u001b[1;33m\u001b[0m\u001b[0m\n\u001b[1;32m----> 5\u001b[1;33m \u001b[0mprint\u001b[0m\u001b[1;33m(\u001b[0m\u001b[0mf1\u001b[0m\u001b[1;33m,\u001b[0m\u001b[0mp1\u001b[0m\u001b[1;33m,\u001b[0m\u001b[1;34m'\\n'\u001b[0m\u001b[1;33m,\u001b[0m\u001b[0mf2\u001b[0m\u001b[1;33m,\u001b[0m\u001b[0mp2\u001b[0m\u001b[1;33m,\u001b[0m\u001b[1;34m'\\n'\u001b[0m\u001b[1;33m,\u001b[0m\u001b[0mf3\u001b[0m\u001b[1;33m,\u001b[0m\u001b[0mp3\u001b[0m\u001b[1;33m,\u001b[0m\u001b[1;34m'\\n'\u001b[0m\u001b[1;33m,\u001b[0m\u001b[0mf4\u001b[0m\u001b[1;33m,\u001b[0m\u001b[0mp4\u001b[0m\u001b[1;33m)\u001b[0m\u001b[1;33m\u001b[0m\u001b[1;33m\u001b[0m\u001b[0m\n\u001b[0m",
      "\u001b[1;31mNameError\u001b[0m: name 'f4' is not defined"
     ]
    }
   ],
   "source": [
    "f1,p1=stats.shapiro(survey.GPA)\n",
    "f2,p2=stats.shapiro(survey.Salary)\n",
    "f3,p3=stats.shapiro(survey.Spending)\n",
    "f4,p=stats.shapiro(survey['Text Messages'])\n",
    "print(f1,p1,'\\n',f2,p2,'\\n',f3,p3,'\\n',f4,p4)"
   ]
  },
  {
   "cell_type": "code",
   "execution_count": 36,
   "id": "99174b17",
   "metadata": {},
   "outputs": [
    {
     "name": "stdout",
     "output_type": "stream",
     "text": [
      "Mean of GPA = 3.129032258064516 \n",
      "Median of GPA = 3.1500000000000004 \n",
      "Mode of GPA = 0    3.0\n",
      "1    3.1\n",
      "2    3.4\n",
      "dtype: float64\n",
      "Mean of Salary = 48.54838709677419 \n",
      "Median of Salary = 50.0 \n",
      "Mode of Salary = 0    40.0\n",
      "dtype: float64\n",
      "Mean of Spending = 482.01612903225805 \n",
      "Median of Spending = 500.0 \n",
      "Mode of Spending = 0    500\n",
      "dtype: int64\n",
      "Mean of Text Messages = 246.20967741935485 \n",
      "Median of Text Messages = 200.0 \n",
      "Mode of Text Messages = 0    300\n",
      "dtype: int64\n"
     ]
    }
   ],
   "source": [
    "print('Mean of GPA =',survey['GPA'].mean(),'\\nMedian of GPA =',survey.GPA.median(),'\\nMode of GPA =',survey.GPA.mode())\n",
    "print('Mean of Salary =',survey['Salary'].mean(),'\\nMedian of Salary =',survey.Salary.median(),'\\nMode of Salary =',survey.Salary.mode())\n",
    "print('Mean of Spending =',survey['Spending'].mean(),'\\nMedian of Spending =',survey.Spending.median(),'\\nMode of Spending =',survey.Spending.mode())\n",
    "print('Mean of Text Messages =',survey['Text Messages'].mean(),'\\nMedian of Text Messages =',survey['Text Messages'].median(),'\\nMode of Text Messages =',survey['Text Messages'].mode())"
   ]
  },
  {
   "cell_type": "markdown",
   "id": "192d8032",
   "metadata": {},
   "source": [
    "As we can see ,\n",
    "\n",
    "For GPA Mean , median  and mode is almost similar so we can can say it follows a normal distribution, for the rest three Salary , Spending and Text Messages has substantial differences in their mean, median and mode so we can say they dont a normal distribution."
   ]
  },
  {
   "cell_type": "markdown",
   "id": "fd73e370",
   "metadata": {},
   "source": [
    "##### 2.8.2\n",
    "Conclusion,\n",
    "\n",
    "As we studied the survey data we can say few things about the survey that, there are more number of males who intends to graduate as compare to female, As among females lot of them is still undecided whether to graduate or not. studendts who intends to graduate most liked stream to major from amoing males is Management and Retail/Marketing and among females its Retail/marketing and Economics/finance, so we ca say among all students who intends to graduate most liked major is Retail/Marketing. Around 85% of students are working and most of them prefer part-time jobs and uses laptop instead of dekstop or tablet. Among male students who earns good salary(more than or equal to 50) most of them have intention to graduate where as  high paid working females(more than or equal to 50) have mixed feeling about Graduate intention."
   ]
  },
  {
   "cell_type": "markdown",
   "id": "20ec9afe",
   "metadata": {},
   "source": [
    "Problem 3\n",
    "\n",
    "## Problem Statement\n",
    "### An important quality characteristic used by the manufacturers of ABC asphalt shingles is the amount of moisture the shingles contain when they are packaged. Customers may feel that they have purchased a product lacking in quality if they find moisture and wet shingles inside the packaging.   In some cases, excessive moisture can cause the granules attached to the shingles for texture and coloring purposes to fall off the shingles resulting in appearance problems. To monitor the amount of moisture present, the company conducts moisture tests. A shingle is weighed and then dried. The shingle is then reweighed, and based on the amount of moisture taken out of the product, the pounds of moisture per 100 square feet are calculated. The company would like to show that the mean moisture content is less than 0.35 pounds per 100 square feet.\n",
    "1. The file (A & B shingles.csv) includes 36 measurements (in pounds per 100 square feet) for A shingles and 31 for B shingles."
   ]
  },
  {
   "cell_type": "markdown",
   "id": "39727cea",
   "metadata": {},
   "source": [
    "#### Q-3.1 Do you think there is evidence that means moisture contents in both types of shingles are within the permissible limits? State your conclusions clearly showing all steps."
   ]
  },
  {
   "cell_type": "code",
   "execution_count": 37,
   "id": "14655e28",
   "metadata": {},
   "outputs": [
    {
     "data": {
      "text/html": [
       "<div>\n",
       "<style scoped>\n",
       "    .dataframe tbody tr th:only-of-type {\n",
       "        vertical-align: middle;\n",
       "    }\n",
       "\n",
       "    .dataframe tbody tr th {\n",
       "        vertical-align: top;\n",
       "    }\n",
       "\n",
       "    .dataframe thead th {\n",
       "        text-align: right;\n",
       "    }\n",
       "</style>\n",
       "<table border=\"1\" class=\"dataframe\">\n",
       "  <thead>\n",
       "    <tr style=\"text-align: right;\">\n",
       "      <th></th>\n",
       "      <th>A</th>\n",
       "      <th>B</th>\n",
       "    </tr>\n",
       "  </thead>\n",
       "  <tbody>\n",
       "    <tr>\n",
       "      <th>count</th>\n",
       "      <td>36.000000</td>\n",
       "      <td>31.000000</td>\n",
       "    </tr>\n",
       "    <tr>\n",
       "      <th>mean</th>\n",
       "      <td>0.316667</td>\n",
       "      <td>0.273548</td>\n",
       "    </tr>\n",
       "    <tr>\n",
       "      <th>std</th>\n",
       "      <td>0.135731</td>\n",
       "      <td>0.137296</td>\n",
       "    </tr>\n",
       "    <tr>\n",
       "      <th>min</th>\n",
       "      <td>0.130000</td>\n",
       "      <td>0.100000</td>\n",
       "    </tr>\n",
       "    <tr>\n",
       "      <th>25%</th>\n",
       "      <td>0.207500</td>\n",
       "      <td>0.160000</td>\n",
       "    </tr>\n",
       "    <tr>\n",
       "      <th>50%</th>\n",
       "      <td>0.290000</td>\n",
       "      <td>0.230000</td>\n",
       "    </tr>\n",
       "    <tr>\n",
       "      <th>75%</th>\n",
       "      <td>0.392500</td>\n",
       "      <td>0.400000</td>\n",
       "    </tr>\n",
       "    <tr>\n",
       "      <th>max</th>\n",
       "      <td>0.720000</td>\n",
       "      <td>0.580000</td>\n",
       "    </tr>\n",
       "  </tbody>\n",
       "</table>\n",
       "</div>"
      ],
      "text/plain": [
       "               A          B\n",
       "count  36.000000  31.000000\n",
       "mean    0.316667   0.273548\n",
       "std     0.135731   0.137296\n",
       "min     0.130000   0.100000\n",
       "25%     0.207500   0.160000\n",
       "50%     0.290000   0.230000\n",
       "75%     0.392500   0.400000\n",
       "max     0.720000   0.580000"
      ]
     },
     "execution_count": 37,
     "metadata": {},
     "output_type": "execute_result"
    }
   ],
   "source": [
    "shing=pd.read_csv('A+&+B+shingles.csv')\n",
    "shing.describe()"
   ]
  },
  {
   "cell_type": "markdown",
   "id": "73998d55",
   "metadata": {},
   "source": [
    "### Step 1 - Hypothesis\n",
    "\n",
    "1. Null Hypothesis-$H_0$-  $\\mu$ = mean weight of shingles is 0.35 per 100 square feet\n",
    "2. Alternative Hypothesis - $H_A$- $\\mu$ > mean wieught of shingles 0.35 per 100 square foot"
   ]
  },
  {
   "cell_type": "markdown",
   "id": "cec9406f",
   "metadata": {},
   "source": [
    "### Step 2 - Significance Level $\\alpha$\n",
    "\n",
    "alpha ($\\alpha$) = 0.05\n",
    "\n",
    "Checking the hypothesis at 5 % significance level\n"
   ]
  },
  {
   "cell_type": "markdown",
   "id": "84952255",
   "metadata": {},
   "source": [
    "### Step - 3 Identifying $t_{stat}$ for A and B samples\n",
    "\n",
    "As n is larger than 30 in both cases but population standard deviation is not given\n",
    "\n",
    "$t_{stat}$= $X_{bar}$-$\\mu$/($\\sigma$/sqrt(n))"
   ]
  },
  {
   "cell_type": "markdown",
   "id": "78df81c4",
   "metadata": {},
   "source": [
    "### Step 4 : Calculating tstat and p value"
   ]
  },
  {
   "cell_type": "code",
   "execution_count": 38,
   "id": "d07d9605",
   "metadata": {},
   "outputs": [
    {
     "name": "stdout",
     "output_type": "stream",
     "text": [
      "tstat1 = -1.4735046253382782\n",
      "p value1 = 0.07477633144907513\n",
      "tstat2 = -3.1003313069986995\n",
      "p value2 = 0.0020904774003191826\n"
     ]
    }
   ],
   "source": [
    "# for shingles A\n",
    "tstat1,p_value1=ttest_1samp(shing['A'],0.35)\n",
    "p_value1=p_value1/2\n",
    "print('tstat1 =',tstat1)\n",
    "print('p value1 =',p_value1)\n",
    "# For shingles B\n",
    "tstat2,p_value2=ttest_1samp(shing['B'],0.35,nan_policy='omit')\n",
    "pvalue2=p_value2/2\n",
    "print('tstat2 =',tstat2)\n",
    "print('p value2 =',pvalue2)"
   ]
  },
  {
   "cell_type": "markdown",
   "id": "0e5c08bb",
   "metadata": {},
   "source": [
    "### Step 5 : Decide wether to Reject or Accept the null Hypotheis"
   ]
  },
  {
   "cell_type": "code",
   "execution_count": 39,
   "id": "ba70dbb7",
   "metadata": {},
   "outputs": [
    {
     "name": "stdout",
     "output_type": "stream",
     "text": [
      "We fail to Reject the Null Hypotheis\n",
      "The mean weight of shingles in sample A is not greater than 0.35 per 100 square feet\n"
     ]
    }
   ],
   "source": [
    "# For sample A\n",
    "alpha=0.05\n",
    "if p_value1< alpha:\n",
    "    print('We Reject the Null hypothesis' \n",
    "          '\\nThe mean moisture weight of shingles in sample A is less than 0.35 per 100 square feet')\n",
    "else:\n",
    "    print('We fail to Reject the Null Hypotheis' \n",
    "          '\\nThe mean weight of shingles in sample A is not greater than 0.35 per 100 square feet')\n"
   ]
  },
  {
   "cell_type": "code",
   "execution_count": 40,
   "id": "5dceb380",
   "metadata": {},
   "outputs": [
    {
     "name": "stdout",
     "output_type": "stream",
     "text": [
      "We Reject the Null hypothesis \n",
      "The mean weight of shingles in sample B is less than 0.35 per 100 square feet\n"
     ]
    }
   ],
   "source": [
    "# For sample B\n",
    "alpha=0.05\n",
    "if pvalue2< alpha:\n",
    "    print('We Reject the Null hypothesis \\nThe mean weight of shingles in sample B is less than 0.35 per 100 square feet')\n",
    "else:\n",
    "    print('We fail to Reject the Null Hypotheis' \n",
    "          '\\nThe mean weight of shingles in sample B is not less than 0.35 per 100 square feet')"
   ]
  },
  {
   "cell_type": "markdown",
   "id": "17f31fce",
   "metadata": {},
   "source": [
    "#### Q-3.2 Do you think that the population mean for shingles A and B are equal? Form the hypothesis and conduct the test of the hypothesis. What assumption do you need to check before the test for equality of means is performed?"
   ]
  },
  {
   "cell_type": "markdown",
   "id": "5716a63c",
   "metadata": {},
   "source": [
    "### Step 1 - Hypothesis\n",
    "\n",
    "1. Null Hypothesis-  $\\mu _A$ = $\\mu _B$\n",
    "2. Alternative Hypothesis - $\\mu _A$ != $\\mu _B$"
   ]
  },
  {
   "cell_type": "markdown",
   "id": "2dd78494",
   "metadata": {},
   "source": [
    "### Step 2 - Significance Level $\\alpha$\n",
    "\n",
    "alpha ($\\alpha$) = 0.05\n",
    "\n",
    "Checking the hypothesis at 5 % significance level"
   ]
  },
  {
   "cell_type": "markdown",
   "id": "93d49240",
   "metadata": {},
   "source": [
    "### Step - 3 Identifying $t_{stat}$ for A and B samples\n",
    "\n",
    "\n"
   ]
  },
  {
   "cell_type": "code",
   "execution_count": 41,
   "id": "1f49031b",
   "metadata": {},
   "outputs": [
    {
     "name": "stdout",
     "output_type": "stream",
     "text": [
      "tstat = 1.2896282719661123\n",
      "pvalue = 0.2017496571835306\n"
     ]
    }
   ],
   "source": [
    "tstat,pvalue = ttest_ind(shing.A,shing.B,nan_policy='omit')\n",
    "print('tstat =',tstat)\n",
    "print('pvalue =',pvalue)"
   ]
  },
  {
   "cell_type": "markdown",
   "id": "39f371fd",
   "metadata": {},
   "source": [
    "#### Step 4 : Calculating tstat and p value"
   ]
  },
  {
   "cell_type": "code",
   "execution_count": 42,
   "id": "f8f8817e",
   "metadata": {},
   "outputs": [
    {
     "data": {
      "text/plain": [
       "0.2017496571835306"
      ]
     },
     "execution_count": 42,
     "metadata": {},
     "output_type": "execute_result"
    }
   ],
   "source": [
    "pvalue "
   ]
  },
  {
   "cell_type": "markdown",
   "id": "fb798e7d",
   "metadata": {},
   "source": [
    "#### Step 5 : Conclusion"
   ]
  },
  {
   "cell_type": "code",
   "execution_count": 43,
   "id": "08aaef75",
   "metadata": {},
   "outputs": [
    {
     "name": "stdout",
     "output_type": "stream",
     "text": [
      "We fail to reject the null hypothesis \n",
      "The mean weight of the samples is equal\n"
     ]
    }
   ],
   "source": [
    "alpha = 0.05\n",
    "if pvalue < alpha:\n",
    "    print('We reject the null hypothesis \\nThe mean weight of both samples is not equal')\n",
    "else:\n",
    "    print('We fail to reject the null hypothesis \\nThe mean weight of the samples is equal')"
   ]
  },
  {
   "cell_type": "markdown",
   "id": "3265e57a",
   "metadata": {},
   "source": [
    "##### Assumptions need to check before the test,\n",
    "1. Data values must be independent. Measurements for one observation do not affect measurements for any other observation.\n",
    "2. Data in each group must be obtained via a random sample from the population.\n",
    "3. Data in each group are normally distributed.\n",
    "4. Data values are continuous.\n",
    "5. The variances for the two independent groups are equal."
   ]
  }
 ],
 "metadata": {
  "kernelspec": {
   "display_name": "Python 3",
   "language": "python",
   "name": "python3"
  },
  "language_info": {
   "codemirror_mode": {
    "name": "ipython",
    "version": 3
   },
   "file_extension": ".py",
   "mimetype": "text/x-python",
   "name": "python",
   "nbconvert_exporter": "python",
   "pygments_lexer": "ipython3",
   "version": "3.8.8"
  }
 },
 "nbformat": 4,
 "nbformat_minor": 5
}
